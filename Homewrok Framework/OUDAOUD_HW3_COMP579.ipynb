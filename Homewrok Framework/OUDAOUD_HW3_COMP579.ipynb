{
  "nbformat": 4,
  "nbformat_minor": 0,
  "metadata": {
    "colab": {
      "provenance": []
    },
    "kernelspec": {
      "name": "python3",
      "display_name": "Python 3"
    },
    "language_info": {
      "name": "python"
    },
    "accelerator": "GPU",
    "gpuClass": "standard"
  },
  "cells": [
    {
      "cell_type": "code",
      "execution_count": null,
      "metadata": {
        "colab": {
          "base_uri": "https://localhost:8080/"
        },
        "id": "ASLhBIms437z",
        "outputId": "8ee2b5d2-f85a-4e97-8d1a-a4f113da4988"
      },
      "outputs": [
        {
          "output_type": "stream",
          "name": "stdout",
          "text": [
            "Looking in indexes: https://pypi.org/simple, https://us-python.pkg.dev/colab-wheels/public/simple/\n",
            "Collecting gymnasium\n",
            "  Downloading gymnasium-0.28.1-py3-none-any.whl (925 kB)\n",
            "\u001b[2K     \u001b[90m━━━━━━━━━━━━━━━━━━━━━━━━━━━━━━━━━━━━━━\u001b[0m \u001b[32m925.5/925.5 KB\u001b[0m \u001b[31m17.8 MB/s\u001b[0m eta \u001b[36m0:00:00\u001b[0m\n",
            "\u001b[?25hCollecting farama-notifications>=0.0.1\n",
            "  Downloading Farama_Notifications-0.0.4-py3-none-any.whl (2.5 kB)\n",
            "Collecting jax-jumpy>=1.0.0\n",
            "  Downloading jax_jumpy-1.0.0-py3-none-any.whl (20 kB)\n",
            "Requirement already satisfied: importlib-metadata>=4.8.0 in /usr/local/lib/python3.9/dist-packages (from gymnasium) (6.1.0)\n",
            "Requirement already satisfied: typing-extensions>=4.3.0 in /usr/local/lib/python3.9/dist-packages (from gymnasium) (4.5.0)\n",
            "Requirement already satisfied: numpy>=1.21.0 in /usr/local/lib/python3.9/dist-packages (from gymnasium) (1.22.4)\n",
            "Requirement already satisfied: cloudpickle>=1.2.0 in /usr/local/lib/python3.9/dist-packages (from gymnasium) (2.2.1)\n",
            "Requirement already satisfied: zipp>=0.5 in /usr/local/lib/python3.9/dist-packages (from importlib-metadata>=4.8.0->gymnasium) (3.15.0)\n",
            "Installing collected packages: farama-notifications, jax-jumpy, gymnasium\n",
            "Successfully installed farama-notifications-0.0.4 gymnasium-0.28.1 jax-jumpy-1.0.0\n"
          ]
        }
      ],
      "source": [
        "!pip install gymnasium"
      ]
    },
    {
      "cell_type": "code",
      "source": [
        "import numpy as np\n",
        "import gymnasium as gym\n",
        "from tqdm import tqdm\n",
        "import matplotlib.pyplot as plt\n",
        "import copy\n",
        "import torch\n",
        "import pickle as pkl"
      ],
      "metadata": {
        "id": "YqvCpIPh7doe"
      },
      "execution_count": null,
      "outputs": []
    },
    {
      "cell_type": "markdown",
      "source": [
        "#**Data Analysis**"
      ],
      "metadata": {
        "id": "dpyyc5Ilcf_K"
      }
    },
    {
      "cell_type": "code",
      "source": [
        "def clean(cut,s,a,d,one_hot = True):\n",
        "    states_qa = [states[:-1] for states in s[:cut]]\n",
        "    next_states_qa = [states[1:] for states in s[:cut]]\n",
        "    actions_qa = a[:cut]\n",
        "    rewards_qa = d[:cut]\n",
        "\n",
        "    states = []\n",
        "    next_states = []\n",
        "    actions = []\n",
        "    rewards = []\n",
        "\n",
        "    for state in states_qa:\n",
        "      states = states + state\n",
        "\n",
        "    for next_state in next_states_qa:\n",
        "      next_states = next_states + next_state\n",
        "\n",
        "    for action in actions_qa:\n",
        "      actions = actions + action\n",
        "\n",
        "    for reward in rewards_qa:\n",
        "      rewards = rewards + reward\n",
        "    if one_hot :\n",
        "      states = [one_hot_encode(s) for s in states]\n",
        "      next_states = [one_hot_encode(s) for s in next_states]\n",
        "\n",
        "\n",
        "    states = np.array(states)\n",
        "    next_states = np.array(next_states)\n",
        "    actions = np.array(actions)\n",
        "    rewards = np.array(rewards)\n",
        "\n",
        "    return states,next_states,actions,rewards\n",
        "\n"
      ],
      "metadata": {
        "id": "JaooSoFJcecn"
      },
      "execution_count": null,
      "outputs": []
    },
    {
      "cell_type": "markdown",
      "source": [
        "#**Collecting the behaviour using Q-Learning**"
      ],
      "metadata": {
        "id": "ScxMv6C2830o"
      }
    },
    {
      "cell_type": "code",
      "source": [
        "env2 = gym.make('CartPole-v1')\n",
        "num_bins =10\n",
        "\n",
        "lower_bounds = env2.observation_space.low\n",
        "upper_bounds = env2.observation_space.high\n",
        "lower_bounds[1] = -3\n",
        "lower_bounds[-1] = -3\n",
        "upper_bounds[1] = 3\n",
        "upper_bounds[-1] = 3\n",
        "\n",
        "\n",
        "def one_hot_encode(state):\n",
        "  bins = [\n",
        "      np.linspace(lower,upper,num_bins+1)[1:]\n",
        "      for (lower,upper) in zip(lower_bounds,upper_bounds)\n",
        "  ]\n",
        "  x = np.clip(state,lower_bounds,upper_bounds)\n",
        "  idx = [np.digitize(x_i,b_i,right = True) for (x_i,b_i) in zip(x,bins)]\n",
        "  one_hots = [np.eye(num_bins)[i] for i in idx]\n",
        "  return np.concatenate(one_hots)\n"
      ],
      "metadata": {
        "id": "RtbCK82YFhwm"
      },
      "execution_count": null,
      "outputs": []
    },
    {
      "cell_type": "code",
      "source": [
        "\n",
        "\n",
        "class Qlearning:\n",
        "  def __init__(\n",
        "    self,\n",
        "    num_actions : int,\n",
        "    gamma : float = 0.99,\n",
        "    alpha: float = 1./16,\n",
        "    epsilon: float = 0.1\n",
        "\n",
        "  ):\n",
        "    self.num_actions = num_actions\n",
        "    self.gamma = gamma\n",
        "    self.alpha = alpha\n",
        "    self.epsilon = epsilon\n",
        "    self.w = np.random.uniform(-0.001,0.001,size=(4*num_bins,self.num_actions))\n",
        "\n",
        "  def choose_eps_greedy(self,x):\n",
        "    u = np.random.uniform()\n",
        "    if (u <= self.epsilon):\n",
        "      return np.random.choice(self.num_actions)\n",
        "    qs = one_hot_encode(x).dot(self.w)\n",
        "    return np.argmax(qs)\n",
        "\n",
        "  def update(self,x,a,r,nx,d):\n",
        "    next_qs = one_hot_encode(nx).dot(self.w)\n",
        "    next_v = np.max(next_qs)\n",
        "    target = r + self.gamma*next_v*(1-d)\n",
        "    phi_x = one_hot_encode(x)\n",
        "    q = phi_x.dot(self.w)[a]\n",
        "    dw = (q - target)*phi_x\n",
        "    self.w[:,a] -= self.alpha*dw"
      ],
      "metadata": {
        "id": "LZptSxsK8-OR"
      },
      "execution_count": null,
      "outputs": []
    },
    {
      "cell_type": "code",
      "source": [
        "def rollout(ql,env):\n",
        "  score = []\n",
        "  states = []\n",
        "  actions = []\n",
        "  x,_ = env.reset()\n",
        "  d = False\n",
        "  while not d:\n",
        "    a = ql.choose_eps_greedy(x)\n",
        "    states.append(x)\n",
        "    actions.append(a)\n",
        "    nx,r,d1,d2,_ = env.step(a)\n",
        "\n",
        "    ql.update(x,a,r,nx,d1)\n",
        "    d = d1 or d2\n",
        "    x = nx\n",
        "\n",
        "    score.append(r)\n",
        "  states.append(x)\n",
        "  return score,states,actions"
      ],
      "metadata": {
        "id": "N8bt05n6FoN2"
      },
      "execution_count": null,
      "outputs": []
    },
    {
      "cell_type": "code",
      "source": [
        "agent = Qlearning(2)\n",
        "d = []\n",
        "a = []\n",
        "s = []\n",
        "for ep in tqdm(range(500)):\n",
        "    eps = rollout(agent,env2)\n",
        "    d.append(eps[0])\n",
        "    s.append(eps[1])\n",
        "    a.append(eps[2])\n"
      ],
      "metadata": {
        "colab": {
          "base_uri": "https://localhost:8080/"
        },
        "id": "UHer_CqHFtDf",
        "outputId": "d9e6b133-7b2b-4454-efcd-ec7a49e45d86"
      },
      "execution_count": null,
      "outputs": [
        {
          "output_type": "stream",
          "name": "stderr",
          "text": [
            "100%|██████████| 500/500 [00:39<00:00, 12.51it/s]\n"
          ]
        }
      ]
    },
    {
      "cell_type": "code",
      "source": [
        "# Store the data from the QA Learning\n",
        "\n",
        "with open(\"states_qa_learning.pkl\",\"wb\") as f:\n",
        "  pkl.dump(s,f)\n",
        "\n",
        "with open(\"actions_qa_learning.pkl\",\"wb\") as f:\n",
        "  pkl.dump(a,f)\n",
        "\n",
        "with open(\"score_qa_learning.pkl\",\"wb\") as f:\n",
        "  pkl.dump(d,f)"
      ],
      "metadata": {
        "id": "-sTL3dKYb9N2"
      },
      "execution_count": null,
      "outputs": []
    },
    {
      "cell_type": "markdown",
      "source": [
        "#**Collecting the behaviour using Random Policy**"
      ],
      "metadata": {
        "id": "2yuZc6FZFPzC"
      }
    },
    {
      "cell_type": "code",
      "source": [
        "def uniform_random(num_episodes):\n",
        "  num_bins = 10\n",
        "  num_actions = 2\n",
        "\n",
        "  behaviours = []\n",
        "  for episode in tqdm(range(num_episodes)):\n",
        "    done = False\n",
        "    rewards = []\n",
        "    states = []\n",
        "    actions = []\n",
        "\n",
        "    state = env2.reset()[0]\n",
        "    states.append(state)\n",
        "    state = one_hot_encode(state)\n",
        "    while not done:\n",
        "\n",
        "      action = np.random.randint(0,2)\n",
        "      next_state,reward,done1,done2,info = env2.step(action)\n",
        "      actions.append(action)\n",
        "\n",
        "\n",
        "      states.append(next_state)\n",
        "      done = done1 or done2\n",
        "\n",
        "\n",
        "      next_state = one_hot_encode(next_state)\n",
        "\n",
        "      rewards.append(reward)\n",
        "      state = next_state\n",
        "\n",
        "    behaviours.append((states, actions, rewards))\n",
        "  return behaviours"
      ],
      "metadata": {
        "id": "fpBYcL5bFU_2"
      },
      "execution_count": null,
      "outputs": []
    },
    {
      "cell_type": "code",
      "source": [
        "behaviours_random = uniform_random(num_episodes=500)\n",
        "d_ra = [b[-1] for b in behaviours_random]\n",
        "a_ra = [b[1] for b in behaviours_random]\n",
        "s_ra = [b[0] for b in behaviours_random]"
      ],
      "metadata": {
        "colab": {
          "base_uri": "https://localhost:8080/"
        },
        "id": "bbZ1f3eUFhrP",
        "outputId": "4c517b07-dc67-40a6-e0d7-3846fd178756"
      },
      "execution_count": null,
      "outputs": [
        {
          "output_type": "stream",
          "name": "stderr",
          "text": [
            "100%|██████████| 500/500 [00:05<00:00, 85.34it/s] \n"
          ]
        }
      ]
    },
    {
      "cell_type": "markdown",
      "source": [
        "#**Implement the simple imitation Learning**"
      ],
      "metadata": {
        "id": "-fRToy-uY4Ob"
      }
    },
    {
      "cell_type": "code",
      "source": [
        "class LR(torch.nn.Module):\n",
        "    def __init__(self, input, output):\n",
        "        super(LR, self).__init__()\n",
        "        self.linear = torch.nn.Linear(input, output)\n",
        "        self.sigmoid = torch.nn.Sigmoid()\n",
        "\n",
        "    def forward(self, x):\n",
        "        x = self.linear(x)\n",
        "        out = self.sigmoid(x)\n",
        "        return out\n"
      ],
      "metadata": {
        "id": "akjse70DZVDA"
      },
      "execution_count": null,
      "outputs": []
    },
    {
      "cell_type": "code",
      "source": [
        "def rewards_LR(env,model):\n",
        "  score = 0\n",
        "  x,_ = env.reset()\n",
        "  d = False\n",
        "  while not d:\n",
        "    proba = model(torch.Tensor(one_hot_encode(x)))\n",
        "    a = int((proba > 0.5))\n",
        "    nx,r,d1,d2,_ = env.step(a)\n",
        "    d = d1 or d2\n",
        "    x = nx\n",
        "    score += r\n",
        "  return score"
      ],
      "metadata": {
        "id": "XStQ0F-Ax1Ea"
      },
      "execution_count": null,
      "outputs": []
    },
    {
      "cell_type": "markdown",
      "source": [
        "\n",
        "\n",
        "#**Implement Fitted Q Learning**"
      ],
      "metadata": {
        "id": "Tz-FAZdP1BSP"
      }
    },
    {
      "cell_type": "code",
      "source": [
        "class Fitted_Q_learning():\n",
        "  def __init__(self,steps_phi,gamma,alpha):\n",
        "    self.steps_phi = steps_phi\n",
        "    self.num_actions = 2\n",
        "    self.bins = 10\n",
        "    self.gamma = gamma\n",
        "    self.alpha = alpha\n",
        "    self.phi = np.random.uniform(-0.001,0.001,size=(self.bins*4,self.num_actions))\n",
        "\n",
        "  def loss(self,S,A,NS,R,y):\n",
        "    L = 0\n",
        "    for i in range(len(R)):\n",
        "      L = L + (self.phi[:,A[i]].dot(S[i]) - y[i])**2\n",
        "    return L/(2*len(R))\n",
        "\n",
        "  def forward(self,S,A,NS,R):\n",
        "    y = np.zeros(R.shape)\n",
        "    for i in range(len(R)) :\n",
        "      q_ns_0 = self.phi[:,0].dot(NS[i])\n",
        "      q_ns_1 = self.phi[:,1].dot(NS[i])\n",
        "      y[i] = R[i] + self.gamma* max(q_ns_0,q_ns_1)\n",
        "    # print(max(y))    #REDO r = reward ?\n",
        "\n",
        "    for epoch in range(self.steps_phi):\n",
        "      self.phi[:,0] += self.alpha* (y[i] - self.phi[:,0] ) # REDO and do we use 10**4 ?\n",
        "      self.phi[:,1] += self.alpha* (y[i] - self.phi[:,1] )\n",
        "\n",
        "    print(self.loss(S,A,NS,R,y))\n",
        "    return self.loss(S,A,NS,R,y)\n",
        "\n",
        "\n"
      ],
      "metadata": {
        "id": "25oBVlJU1Azm"
      },
      "execution_count": null,
      "outputs": []
    },
    {
      "cell_type": "code",
      "source": [
        "def rewards_fitted(env,mdl):\n",
        "  score = 0\n",
        "  x,_ = env.reset()\n",
        "  d = False\n",
        "  while not d:\n",
        "    qs = one_hot_encode(x).dot(mdl.phi)\n",
        "    a =  np.argmax(qs)\n",
        "    nx,r,d1,d2,_ = env.step(a)\n",
        "    d = d1 or d2\n",
        "    x = nx\n",
        "    score += r\n",
        "  return score"
      ],
      "metadata": {
        "id": "re4c9otQn4WX"
      },
      "execution_count": null,
      "outputs": []
    },
    {
      "cell_type": "markdown",
      "source": [
        "#**Implement MLP**"
      ],
      "metadata": {
        "id": "q46TLaqCm7UA"
      }
    },
    {
      "cell_type": "code",
      "source": [
        "class MLP_Q_fitted():\n",
        "  def __init__(self,input,h1,h2,output,gamma):\n",
        "    self.gamma = gamma\n",
        "    self.layers = torch.nn.Sequential(\n",
        "        torch.nn.Linear(input,h1),\n",
        "        torch.nn.ReLU(),\n",
        "        torch.nn.Linear(h1,h2),\n",
        "        torch.nn.ReLU(),\n",
        "        torch.nn.Linear(h2,output),\n",
        "\n",
        "\n",
        "    )\n",
        "\n",
        "  def loss(self,Q,y):\n",
        "    return 0.5*torch.mean((Q - y)**2)\n",
        "\n",
        "\n",
        "  def forward(self,S,A,NS,R,optim):\n",
        "\n",
        "    S = torch.tensor(S, dtype=torch.float32)\n",
        "    A = torch.tensor(A, dtype=torch.long).view(-1, 1)\n",
        "    NS = torch.tensor(NS, dtype=torch.float32)\n",
        "    R = torch.tensor(R, dtype=torch.float32).view(-1, 1)\n",
        "\n",
        "    Q = self.layers(S)\n",
        "\n",
        "    Q = Q.gather(1,A)\n",
        "\n",
        "    #calculate the target\n",
        "\n",
        "    with torch.no_grad():\n",
        "      next_Q = self.layers(NS)\n",
        "      max_next_Q = next_Q.max(dim=1)[0].view(-1, 1)\n",
        "      target = R + self.gamma*max_next_Q\n",
        "\n",
        "    loss = self.loss(Q,target.squeeze())\n",
        "\n",
        "    optim.zero_grad()\n",
        "    loss.backward()\n",
        "    optim.step()\n",
        "\n",
        "    return loss.item()\n",
        "\n",
        "\n"
      ],
      "metadata": {
        "id": "rcV7PArk0OHu"
      },
      "execution_count": null,
      "outputs": []
    },
    {
      "cell_type": "code",
      "source": [
        "def rewards_MLP(env,mdl,one_hot = False):\n",
        "  score = 0\n",
        "  x,_ = env.reset()\n",
        "  d = False\n",
        "  while not d:\n",
        "    x = torch.Tensor(one_hot_encode(x))\n",
        "    qs = mdl.layers(x)\n",
        "    a =  int(torch.argmax(qs))\n",
        "    nx,r,d1,d2,_ = env.step(a)\n",
        "    d = d1 or d2\n",
        "    x = nx\n",
        "    score += r\n",
        "  return score"
      ],
      "metadata": {
        "id": "inpmMPGOADeN"
      },
      "execution_count": null,
      "outputs": []
    },
    {
      "cell_type": "markdown",
      "source": [
        "# **Data size of 500 episodes**"
      ],
      "metadata": {
        "id": "Fibx4rIUbO-V"
      }
    },
    {
      "cell_type": "code",
      "source": [
        "#getting the data in shape\n",
        "\n",
        "S_1,NS_1,A_1,R_1 = clean(250,s_ra,a_ra,d_ra)\n",
        "S_2,NS_2,A_2,R_2 = clean(250,s,a,d)\n",
        "\n",
        "S_train = list(S_1) + list(S_2)\n",
        "NS_train = list(NS_1) + list(NS_2)\n",
        "A_train = list(A_1) + list(A_2)\n",
        "R_train = list(R_1) + list(R_2)\n",
        "\n",
        "ind = list(range(len(S_train)))\n",
        "np.random.shuffle(ind)\n",
        "\n",
        "S_train = np.array([S_train[i] for i in ind])\n",
        "NS_train = np.array([NS_train[i] for i in ind])\n",
        "A_train = np.array([A_train[i] for i in ind])\n",
        "R_train = np.array([R_train[i] for i in ind])\n",
        "\n",
        "\n"
      ],
      "metadata": {
        "id": "BIy0RnFQa3c-"
      },
      "execution_count": null,
      "outputs": []
    },
    {
      "cell_type": "code",
      "source": [
        "K = 15\n",
        "np.random.seed(np.random.randint(0,15))\n",
        "ftq7 = Fitted_Q_learning(10,gamma = 0.99, alpha = 0.005)\n",
        "losses = []\n",
        "for epoch in tqdm(range(K)):\n",
        "  losses.append(ftq7.forward(S_train,A_train,NS_train,R_train))\n"
      ],
      "metadata": {
        "colab": {
          "base_uri": "https://localhost:8080/"
        },
        "id": "9uo-zZOiTGek",
        "outputId": "49c3743e-9c09-45f6-a35e-73860e38a1b1"
      },
      "execution_count": null,
      "outputs": [
        {
          "output_type": "stream",
          "name": "stderr",
          "text": [
            "\r  0%|          | 0/15 [00:00<?, ?it/s]"
          ]
        },
        {
          "output_type": "stream",
          "name": "stdout",
          "text": [
            "0.3240781347202679\n"
          ]
        },
        {
          "output_type": "stream",
          "name": "stderr",
          "text": [
            " 13%|█▎        | 2/15 [00:01<00:08,  1.55it/s]"
          ]
        },
        {
          "output_type": "stream",
          "name": "stdout",
          "text": [
            "0.3001845543273457\n"
          ]
        },
        {
          "output_type": "stream",
          "name": "stderr",
          "text": [
            "\r 20%|██        | 3/15 [00:01<00:05,  2.11it/s]"
          ]
        },
        {
          "output_type": "stream",
          "name": "stdout",
          "text": [
            "0.27395929760442195\n",
            "0.24541284194474874\n"
          ]
        },
        {
          "output_type": "stream",
          "name": "stderr",
          "text": [
            " 33%|███▎      | 5/15 [00:02<00:03,  3.33it/s]"
          ]
        },
        {
          "output_type": "stream",
          "name": "stdout",
          "text": [
            "0.21466522440400662\n",
            "0.18199542558116455\n"
          ]
        },
        {
          "output_type": "stream",
          "name": "stderr",
          "text": [
            " 47%|████▋     | 7/15 [00:02<00:01,  4.23it/s]"
          ]
        },
        {
          "output_type": "stream",
          "name": "stdout",
          "text": [
            "0.14790830657057275\n",
            "0.11322486902268528\n"
          ]
        },
        {
          "output_type": "stream",
          "name": "stderr",
          "text": [
            " 60%|██████    | 9/15 [00:02<00:01,  4.71it/s]"
          ]
        },
        {
          "output_type": "stream",
          "name": "stdout",
          "text": [
            "0.0792034458082897\n",
            "0.04770184427654898\n"
          ]
        },
        {
          "output_type": "stream",
          "name": "stderr",
          "text": [
            " 73%|███████▎  | 11/15 [00:03<00:00,  4.95it/s]"
          ]
        },
        {
          "output_type": "stream",
          "name": "stdout",
          "text": [
            "0.021393635701104696\n"
          ]
        },
        {
          "output_type": "stream",
          "name": "stderr",
          "text": [
            "\r 80%|████████  | 12/15 [00:03<00:00,  4.80it/s]"
          ]
        },
        {
          "output_type": "stream",
          "name": "stdout",
          "text": [
            "0.004055949321467904\n"
          ]
        },
        {
          "output_type": "stream",
          "name": "stderr",
          "text": [
            "\r 87%|████████▋ | 13/15 [00:03<00:00,  4.89it/s]"
          ]
        },
        {
          "output_type": "stream",
          "name": "stdout",
          "text": [
            "0.0009515969523988939\n",
            "0.019335530249704008\n"
          ]
        },
        {
          "output_type": "stream",
          "name": "stderr",
          "text": [
            "100%|██████████| 15/15 [00:03<00:00,  3.81it/s]"
          ]
        },
        {
          "output_type": "stream",
          "name": "stdout",
          "text": [
            "0.06912504934713806\n"
          ]
        },
        {
          "output_type": "stream",
          "name": "stderr",
          "text": [
            "\n"
          ]
        }
      ]
    },
    {
      "cell_type": "code",
      "source": [
        "scores = []\n",
        "for run in range(100):\n",
        "  score = rewards_fitted(env2,ftq7)\n",
        "  scores.append(score)\n",
        "mean_500_mixed_005 = np.mean(scores)\n",
        "std_500_mixed_005 = np.std(scores)/np.square(len(scores))\n",
        "print(np.mean(scores))\n",
        "print(np.std(scores))"
      ],
      "metadata": {
        "colab": {
          "base_uri": "https://localhost:8080/"
        },
        "id": "NBX4Y5t8xghr",
        "outputId": "8bbc806d-3e3c-4d61-a65a-fa79d8249f19"
      },
      "execution_count": null,
      "outputs": [
        {
          "output_type": "stream",
          "name": "stdout",
          "text": [
            "39.38\n",
            "47.21033361458061\n"
          ]
        }
      ]
    },
    {
      "cell_type": "code",
      "source": [
        "#Training the Model\n",
        "model = LR(40,1)\n",
        "\n",
        "#Training the LR model\n",
        "perc_split = 0.5\n",
        "K = 100\n",
        "\n",
        "X = torch.Tensor(S_train)\n",
        "Y = torch.Tensor(A_train)\n",
        "#Spliting between train and test\n",
        "split = int(perc_split*len(X))\n",
        "\n",
        "X_train = X[:split]\n",
        "Y_train = Y[:split]\n",
        "\n",
        "X_test = X[split:]\n",
        "Y_test = Y[split:]\n",
        "\n",
        "alpha = 0.05\n",
        "criterion = torch.nn.MSELoss()\n",
        "optimizer = torch.optim.SGD(model.parameters(), lr=alpha)\n",
        "\n",
        "Loss = []\n",
        "\n",
        "for epoch in range(K):\n",
        "  optimizer.zero_grad()\n",
        "  Y_pred = model(X_train)\n",
        "  # get loss for the predicted output\n",
        "  loss = criterion(Y_pred, Y_train.reshape(-1,1))\n",
        "  loss.backward()\n",
        "  optimizer.step()\n",
        "  Loss.append(loss.item())\n",
        "\n",
        "Y_predict = (model(X_test) >= 0.5).float()\n",
        "Acc = (Y_predict == Y_test.reshape(-1,1))\n",
        "torch.sum(Acc)/len(Acc)"
      ],
      "metadata": {
        "colab": {
          "base_uri": "https://localhost:8080/"
        },
        "id": "GKN4gwOwdLVa",
        "outputId": "5429dfbe-586f-4b19-fe94-23b056fd9318"
      },
      "execution_count": null,
      "outputs": [
        {
          "output_type": "execute_result",
          "data": {
            "text/plain": [
              "tensor(0.7878)"
            ]
          },
          "metadata": {},
          "execution_count": 188
        }
      ]
    },
    {
      "cell_type": "code",
      "source": [
        "scores = []\n",
        "for run in range(100):\n",
        "  score = rewards_LR(env2,model)\n",
        "  scores.append(score)\n",
        "plt.plot(scores)\n",
        "mean_500_mixed_005_LR = np.mean(scores)\n",
        "std_500_mixde_005_LR = np.std(scores)/np.square(len(scores))\n",
        "print(np.mean(scores))\n",
        "print(np.std(scores))"
      ],
      "metadata": {
        "colab": {
          "base_uri": "https://localhost:8080/",
          "height": 465
        },
        "id": "UdjVJBKZ89Gv",
        "outputId": "de847ee3-d084-4ff7-91af-b0ffcf15f065"
      },
      "execution_count": null,
      "outputs": [
        {
          "output_type": "stream",
          "name": "stdout",
          "text": [
            "195.42\n",
            "38.755691194971604\n"
          ]
        },
        {
          "output_type": "display_data",
          "data": {
            "text/plain": [
              "<Figure size 640x480 with 1 Axes>"
            ],
            "image/png": "[encoded data removed]"
          },
          "metadata": {}
        }
      ]
    },
    {
      "cell_type": "code",
      "source": [
        "#Training the MLP Model\n",
        "\n",
        "MLP = MLP_Q_fitted(40,20,20,2,gamma = 0.9)\n",
        "\n",
        "optimizer = torch.optim.SGD(MLP.layers.parameters(), lr=0.1)\n",
        "\n",
        "losses = []\n",
        "K = 50\n",
        "for run in tqdm(range(50)):\n",
        "  loss= MLP.forward(S_train,A_train,NS_train,R_train,optimizer)\n",
        "  losses.append(loss)\n",
        "  print(loss)\n",
        "\n"
      ],
      "metadata": {
        "colab": {
          "base_uri": "https://localhost:8080/"
        },
        "id": "0lQkwW06N9YX",
        "outputId": "a30ab414-ab01-4569-a8ca-955d84c71942"
      },
      "execution_count": null,
      "outputs": [
        {
          "output_type": "stream",
          "name": "stderr",
          "text": [
            "  2%|▏         | 1/50 [00:02<01:47,  2.19s/it]"
          ]
        },
        {
          "output_type": "stream",
          "name": "stdout",
          "text": [
            "0.6849259734153748\n"
          ]
        },
        {
          "output_type": "stream",
          "name": "stderr",
          "text": [
            "\r  4%|▍         | 2/50 [00:04<01:40,  2.10s/it]"
          ]
        },
        {
          "output_type": "stream",
          "name": "stdout",
          "text": [
            "0.6602683663368225\n"
          ]
        },
        {
          "output_type": "stream",
          "name": "stderr",
          "text": [
            "\r  6%|▌         | 3/50 [00:06<01:44,  2.22s/it]"
          ]
        },
        {
          "output_type": "stream",
          "name": "stdout",
          "text": [
            "0.6378902792930603\n"
          ]
        },
        {
          "output_type": "stream",
          "name": "stderr",
          "text": [
            "\r  8%|▊         | 4/50 [00:09<01:47,  2.33s/it]"
          ]
        },
        {
          "output_type": "stream",
          "name": "stdout",
          "text": [
            "0.6171072721481323\n"
          ]
        },
        {
          "output_type": "stream",
          "name": "stderr",
          "text": [
            "\r 10%|█         | 5/50 [00:11<01:39,  2.22s/it]"
          ]
        },
        {
          "output_type": "stream",
          "name": "stdout",
          "text": [
            "0.5971618890762329\n"
          ]
        },
        {
          "output_type": "stream",
          "name": "stderr",
          "text": [
            "\r 12%|█▏        | 6/50 [00:13<01:34,  2.15s/it]"
          ]
        },
        {
          "output_type": "stream",
          "name": "stdout",
          "text": [
            "0.5778554081916809\n"
          ]
        },
        {
          "output_type": "stream",
          "name": "stderr",
          "text": [
            "\r 14%|█▍        | 7/50 [00:15<01:30,  2.11s/it]"
          ]
        },
        {
          "output_type": "stream",
          "name": "stdout",
          "text": [
            "0.5590255856513977\n"
          ]
        },
        {
          "output_type": "stream",
          "name": "stderr",
          "text": [
            "\r 16%|█▌        | 8/50 [00:17<01:27,  2.08s/it]"
          ]
        },
        {
          "output_type": "stream",
          "name": "stdout",
          "text": [
            "0.540386974811554\n"
          ]
        },
        {
          "output_type": "stream",
          "name": "stderr",
          "text": [
            "\r 18%|█▊        | 9/50 [00:19<01:26,  2.10s/it]"
          ]
        },
        {
          "output_type": "stream",
          "name": "stdout",
          "text": [
            "0.5214362740516663\n"
          ]
        },
        {
          "output_type": "stream",
          "name": "stderr",
          "text": [
            "\r 20%|██        | 10/50 [00:21<01:29,  2.23s/it]"
          ]
        },
        {
          "output_type": "stream",
          "name": "stdout",
          "text": [
            "0.5015376806259155\n"
          ]
        },
        {
          "output_type": "stream",
          "name": "stderr",
          "text": [
            "\r 22%|██▏       | 11/50 [00:23<01:24,  2.16s/it]"
          ]
        },
        {
          "output_type": "stream",
          "name": "stdout",
          "text": [
            "0.48059526085853577\n"
          ]
        },
        {
          "output_type": "stream",
          "name": "stderr",
          "text": [
            "\r 24%|██▍       | 12/50 [00:25<01:20,  2.12s/it]"
          ]
        },
        {
          "output_type": "stream",
          "name": "stdout",
          "text": [
            "0.45858579874038696\n"
          ]
        },
        {
          "output_type": "stream",
          "name": "stderr",
          "text": [
            "\r 26%|██▌       | 13/50 [00:27<01:17,  2.09s/it]"
          ]
        },
        {
          "output_type": "stream",
          "name": "stdout",
          "text": [
            "0.4352501928806305\n"
          ]
        },
        {
          "output_type": "stream",
          "name": "stderr",
          "text": [
            "\r 28%|██▊       | 14/50 [00:29<01:14,  2.07s/it]"
          ]
        },
        {
          "output_type": "stream",
          "name": "stdout",
          "text": [
            "0.4102378487586975\n"
          ]
        },
        {
          "output_type": "stream",
          "name": "stderr",
          "text": [
            "\r 30%|███       | 15/50 [00:32<01:13,  2.10s/it]"
          ]
        },
        {
          "output_type": "stream",
          "name": "stdout",
          "text": [
            "0.38321569561958313\n"
          ]
        },
        {
          "output_type": "stream",
          "name": "stderr",
          "text": [
            "\r 32%|███▏      | 16/50 [00:34<01:16,  2.24s/it]"
          ]
        },
        {
          "output_type": "stream",
          "name": "stdout",
          "text": [
            "0.35523250699043274\n"
          ]
        },
        {
          "output_type": "stream",
          "name": "stderr",
          "text": [
            "\r 34%|███▍      | 17/50 [00:36<01:11,  2.17s/it]"
          ]
        },
        {
          "output_type": "stream",
          "name": "stdout",
          "text": [
            "0.32938840985298157\n"
          ]
        },
        {
          "output_type": "stream",
          "name": "stderr",
          "text": [
            "\r 36%|███▌      | 18/50 [00:38<01:08,  2.14s/it]"
          ]
        },
        {
          "output_type": "stream",
          "name": "stdout",
          "text": [
            "0.31279388070106506\n"
          ]
        },
        {
          "output_type": "stream",
          "name": "stderr",
          "text": [
            "\r 38%|███▊      | 19/50 [00:40<01:05,  2.11s/it]"
          ]
        },
        {
          "output_type": "stream",
          "name": "stdout",
          "text": [
            "0.30422019958496094\n"
          ]
        },
        {
          "output_type": "stream",
          "name": "stderr",
          "text": [
            "\r 40%|████      | 20/50 [00:42<01:02,  2.08s/it]"
          ]
        },
        {
          "output_type": "stream",
          "name": "stdout",
          "text": [
            "0.30087754130363464\n"
          ]
        },
        {
          "output_type": "stream",
          "name": "stderr",
          "text": [
            "\r 42%|████▏     | 21/50 [00:44<01:01,  2.12s/it]"
          ]
        },
        {
          "output_type": "stream",
          "name": "stdout",
          "text": [
            "0.30426907539367676\n"
          ]
        },
        {
          "output_type": "stream",
          "name": "stderr",
          "text": [
            "\r 44%|████▍     | 22/50 [00:47<01:02,  2.23s/it]"
          ]
        },
        {
          "output_type": "stream",
          "name": "stdout",
          "text": [
            "0.3176894187927246\n"
          ]
        },
        {
          "output_type": "stream",
          "name": "stderr",
          "text": [
            "\r 46%|████▌     | 23/50 [00:49<00:58,  2.16s/it]"
          ]
        },
        {
          "output_type": "stream",
          "name": "stdout",
          "text": [
            "0.3452112376689911\n"
          ]
        },
        {
          "output_type": "stream",
          "name": "stderr",
          "text": [
            "\r 48%|████▊     | 24/50 [00:51<00:55,  2.12s/it]"
          ]
        },
        {
          "output_type": "stream",
          "name": "stdout",
          "text": [
            "0.3864139914512634\n"
          ]
        },
        {
          "output_type": "stream",
          "name": "stderr",
          "text": [
            "\r 50%|█████     | 25/50 [00:53<00:52,  2.09s/it]"
          ]
        },
        {
          "output_type": "stream",
          "name": "stdout",
          "text": [
            "0.43094703555107117\n"
          ]
        },
        {
          "output_type": "stream",
          "name": "stderr",
          "text": [
            "\r 52%|█████▏    | 26/50 [00:55<00:49,  2.07s/it]"
          ]
        },
        {
          "output_type": "stream",
          "name": "stdout",
          "text": [
            "0.45877203345298767\n"
          ]
        },
        {
          "output_type": "stream",
          "name": "stderr",
          "text": [
            "\r 54%|█████▍    | 27/50 [00:57<00:48,  2.10s/it]"
          ]
        },
        {
          "output_type": "stream",
          "name": "stdout",
          "text": [
            "0.4526219069957733\n"
          ]
        },
        {
          "output_type": "stream",
          "name": "stderr",
          "text": [
            "\r 56%|█████▌    | 28/50 [01:00<00:50,  2.30s/it]"
          ]
        },
        {
          "output_type": "stream",
          "name": "stdout",
          "text": [
            "0.4140181243419647\n"
          ]
        },
        {
          "output_type": "stream",
          "name": "stderr",
          "text": [
            "\r 58%|█████▊    | 29/50 [01:02<00:47,  2.26s/it]"
          ]
        },
        {
          "output_type": "stream",
          "name": "stdout",
          "text": [
            "0.359624981880188\n"
          ]
        },
        {
          "output_type": "stream",
          "name": "stderr",
          "text": [
            "\r 60%|██████    | 30/50 [01:05<00:51,  2.57s/it]"
          ]
        },
        {
          "output_type": "stream",
          "name": "stdout",
          "text": [
            "0.3050002455711365\n"
          ]
        },
        {
          "output_type": "stream",
          "name": "stderr",
          "text": [
            "\r 62%|██████▏   | 31/50 [01:09<00:54,  2.88s/it]"
          ]
        },
        {
          "output_type": "stream",
          "name": "stdout",
          "text": [
            "0.25745660066604614\n"
          ]
        },
        {
          "output_type": "stream",
          "name": "stderr",
          "text": [
            "\r 64%|██████▍   | 32/50 [01:13<00:56,  3.16s/it]"
          ]
        },
        {
          "output_type": "stream",
          "name": "stdout",
          "text": [
            "0.21908001601696014\n"
          ]
        },
        {
          "output_type": "stream",
          "name": "stderr",
          "text": [
            "\r 66%|██████▌   | 33/50 [01:15<00:48,  2.82s/it]"
          ]
        },
        {
          "output_type": "stream",
          "name": "stdout",
          "text": [
            "0.18870089948177338\n"
          ]
        },
        {
          "output_type": "stream",
          "name": "stderr",
          "text": [
            "\r 68%|██████▊   | 34/50 [01:17<00:41,  2.58s/it]"
          ]
        },
        {
          "output_type": "stream",
          "name": "stdout",
          "text": [
            "0.16474056243896484\n"
          ]
        },
        {
          "output_type": "stream",
          "name": "stderr",
          "text": [
            "\r 70%|███████   | 35/50 [01:19<00:36,  2.41s/it]"
          ]
        },
        {
          "output_type": "stream",
          "name": "stdout",
          "text": [
            "0.14576421678066254\n"
          ]
        },
        {
          "output_type": "stream",
          "name": "stderr",
          "text": [
            "\r 72%|███████▏  | 36/50 [01:21<00:32,  2.30s/it]"
          ]
        },
        {
          "output_type": "stream",
          "name": "stdout",
          "text": [
            "0.13065609335899353\n"
          ]
        },
        {
          "output_type": "stream",
          "name": "stderr",
          "text": [
            "\r 74%|███████▍  | 37/50 [01:23<00:29,  2.27s/it]"
          ]
        },
        {
          "output_type": "stream",
          "name": "stdout",
          "text": [
            "0.11840210855007172\n"
          ]
        },
        {
          "output_type": "stream",
          "name": "stderr",
          "text": [
            "\r 76%|███████▌  | 38/50 [01:26<00:28,  2.33s/it]"
          ]
        },
        {
          "output_type": "stream",
          "name": "stdout",
          "text": [
            "0.10817470401525497\n"
          ]
        },
        {
          "output_type": "stream",
          "name": "stderr",
          "text": [
            "\r 78%|███████▊  | 39/50 [01:28<00:24,  2.24s/it]"
          ]
        },
        {
          "output_type": "stream",
          "name": "stdout",
          "text": [
            "0.09942172467708588\n"
          ]
        },
        {
          "output_type": "stream",
          "name": "stderr",
          "text": [
            "\r 80%|████████  | 40/50 [01:30<00:21,  2.17s/it]"
          ]
        },
        {
          "output_type": "stream",
          "name": "stdout",
          "text": [
            "0.09178764373064041\n"
          ]
        },
        {
          "output_type": "stream",
          "name": "stderr",
          "text": [
            "\r 82%|████████▏ | 41/50 [01:32<00:19,  2.13s/it]"
          ]
        },
        {
          "output_type": "stream",
          "name": "stdout",
          "text": [
            "0.08501189947128296\n"
          ]
        },
        {
          "output_type": "stream",
          "name": "stderr",
          "text": [
            "\r 84%|████████▍ | 42/50 [01:34<00:16,  2.10s/it]"
          ]
        },
        {
          "output_type": "stream",
          "name": "stdout",
          "text": [
            "0.07891693711280823\n"
          ]
        },
        {
          "output_type": "stream",
          "name": "stderr",
          "text": [
            "\r 86%|████████▌ | 43/50 [01:36<00:14,  2.13s/it]"
          ]
        },
        {
          "output_type": "stream",
          "name": "stdout",
          "text": [
            "0.0733967050909996\n"
          ]
        },
        {
          "output_type": "stream",
          "name": "stderr",
          "text": [
            "\r 88%|████████▊ | 44/50 [01:38<00:13,  2.24s/it]"
          ]
        },
        {
          "output_type": "stream",
          "name": "stdout",
          "text": [
            "0.06836996972560883\n"
          ]
        },
        {
          "output_type": "stream",
          "name": "stderr",
          "text": [
            "\r 90%|█████████ | 45/50 [01:40<00:10,  2.17s/it]"
          ]
        },
        {
          "output_type": "stream",
          "name": "stdout",
          "text": [
            "0.06376843899488449\n"
          ]
        },
        {
          "output_type": "stream",
          "name": "stderr",
          "text": [
            "\r 92%|█████████▏| 46/50 [01:42<00:08,  2.13s/it]"
          ]
        },
        {
          "output_type": "stream",
          "name": "stdout",
          "text": [
            "0.05953503027558327\n"
          ]
        },
        {
          "output_type": "stream",
          "name": "stderr",
          "text": [
            "\r 94%|█████████▍| 47/50 [01:44<00:06,  2.09s/it]"
          ]
        },
        {
          "output_type": "stream",
          "name": "stdout",
          "text": [
            "0.05562692880630493\n"
          ]
        },
        {
          "output_type": "stream",
          "name": "stderr",
          "text": [
            "\r 96%|█████████▌| 48/50 [01:47<00:04,  2.08s/it]"
          ]
        },
        {
          "output_type": "stream",
          "name": "stdout",
          "text": [
            "0.05201057717204094\n"
          ]
        },
        {
          "output_type": "stream",
          "name": "stderr",
          "text": [
            "\r 98%|█████████▊| 49/50 [01:49<00:02,  2.12s/it]"
          ]
        },
        {
          "output_type": "stream",
          "name": "stdout",
          "text": [
            "0.04865863174200058\n"
          ]
        },
        {
          "output_type": "stream",
          "name": "stderr",
          "text": [
            "100%|██████████| 50/50 [01:51<00:00,  2.23s/it]"
          ]
        },
        {
          "output_type": "stream",
          "name": "stdout",
          "text": [
            "0.04554898664355278\n"
          ]
        },
        {
          "output_type": "stream",
          "name": "stderr",
          "text": [
            "\n"
          ]
        }
      ]
    },
    {
      "cell_type": "code",
      "source": [
        "scores = []\n",
        "for run in range(100):\n",
        "  score = rewards_MLP(env2,MLP,one_hot = True)\n",
        "  scores.append(score)\n",
        "mean_500_mixed_005_MLP = np.mean(scores)\n",
        "std_500_mixed_005_MLP = np.std(scores)/np.square(len(scores))\n",
        "print(np.mean(scores))\n",
        "print(np.std(scores)/np.square(len(scores)))"
      ],
      "metadata": {
        "colab": {
          "base_uri": "https://localhost:8080/"
        },
        "id": "k_mxdhjOO5jL",
        "outputId": "bd4083f3-91f6-4c9b-be6a-65ad43d45405"
      },
      "execution_count": null,
      "outputs": [
        {
          "output_type": "stream",
          "name": "stdout",
          "text": [
            "161.52\n",
            "0.006282968725053468\n"
          ]
        }
      ]
    },
    {
      "cell_type": "markdown",
      "source": [
        "#The plot of the 500 size dataset"
      ],
      "metadata": {
        "id": "j5ndoiK3pU9z"
      }
    },
    {
      "cell_type": "code",
      "source": [
        "L_R = [mean_500_expert_005_LR,mean_500_random_005_LR,mean_500_mixed_005_LR]\n",
        "fitted = [mean_500_expert_005,mean_500_random_005,mean_500_mixed_005]\n",
        "MLP = [mean_500_expert_005_MLP,mean_500_random_005_MLP,mean_500_mixed_005_MLP]\n",
        "X = np.arange(3)\n",
        "fig = plt.figure()\n",
        "ax = fig.add_axes([0,0,1,1])\n",
        "\n",
        "ax.bar(X + 0, L_R, color ='r',label = \"LR\",width = 0.25)\n",
        "ax.bar(X + 0.25, fitted, color ='b',label = \"Q fitted\",width = 0.25)\n",
        "ax.bar(X + 0.5, MLP, color ='g',label = \"MLP\",width = 0.25)\n",
        "\n",
        "ax.axhline(y = 139.28,color ='g',label = 'return of expert policy')\n",
        "ax.axhline(y = 27.24,color ='y',label = 'return of random policy')\n",
        "plt.xticks(X,[\"expert\", \"random\",\"mixed\"])\n",
        "plt.title(\"The rewards from the different models for alpha = 0.005 and datasize of 500\")\n",
        "ax.legend()"
      ],
      "metadata": {
        "colab": {
          "base_uri": "https://localhost:8080/",
          "height": 580
        },
        "id": "dwAyj0XNpef4",
        "outputId": "a90a9dc2-acb4-42c6-d552-b170a0d7c1f4"
      },
      "execution_count": null,
      "outputs": [
        {
          "output_type": "execute_result",
          "data": {
            "text/plain": [
              "<matplotlib.legend.Legend at 0x7fb0082a62e0>"
            ]
          },
          "metadata": {},
          "execution_count": 45
        },
        {
          "output_type": "display_data",
          "data": {
            "text/plain": [
              "<Figure size 640x480 with 1 Axes>"
            ],
            "image/png": "[encoded data removed]"
          },
          "metadata": {}
        }
      ]
    },
    {
      "cell_type": "code",
      "source": [
        "L_R = [std_500_expert_005_LR,std_500_random_005_LR,std_500_mixed_005_LR]\n",
        "fitted =  [std_500_expert_005,std_500_random_005,std_500_mixed_005]\n",
        "MLP = [std_500_expert_005_MLP,std_500_random_005_MLP,std_500_mixed_005_MLP]\n",
        "X = np.arange(3)\n",
        "fig = plt.figure()\n",
        "ax = fig.add_axes([0,0,1,1])\n",
        "\n",
        "ax.bar(X + 0, L_R, color ='r',label = \"LR\",width = 0.25)\n",
        "ax.bar(X + 0.25, fitted, color ='b',label = \"Q fitted\",width = 0.25)\n",
        "ax.bar(X + 0.5, MLP, color ='g',label = \"MLP\",width = 0.25)\n",
        "\n",
        "\n",
        "plt.xticks(X,[\"expert\", \"random\",\"mixed\"])\n",
        "plt.title(\"The Std Error from the different models for alpha = 0.005 and datasize of 500\")\n",
        "ax.legend()"
      ],
      "metadata": {
        "colab": {
          "base_uri": "https://localhost:8080/",
          "height": 580
        },
        "id": "LfH2gSe4Yg4g",
        "outputId": "555061ad-5e49-49f8-9347-acb1ea653966"
      },
      "execution_count": null,
      "outputs": [
        {
          "output_type": "execute_result",
          "data": {
            "text/plain": [
              "<matplotlib.legend.Legend at 0x7fb006cfc9a0>"
            ]
          },
          "metadata": {},
          "execution_count": 47
        },
        {
          "output_type": "display_data",
          "data": {
            "text/plain": [
              "<Figure size 640x480 with 1 Axes>"
            ],
            "image/png": "[encoded data removed]"
          },
          "metadata": {}
        }
      ]
    },
    {
      "cell_type": "markdown",
      "source": [
        "#**Datasize of 250**"
      ],
      "metadata": {
        "id": "EY4p_o7a3XUZ"
      }
    },
    {
      "cell_type": "code",
      "source": [
        "# S_1,NS_1,A_1,R_1 = clean(125,s_ra,a_ra,d_ra)\n",
        "# S_2,NS_2,A_2,R_2 = clean(125,s,a,d)\n",
        "\n",
        "# S_train = list(S_1) + list(S_2)\n",
        "# NS_train = list(NS_1) + list(NS_2)\n",
        "# A_train = list(A_1) + list(A_2)\n",
        "# R_train = list(R_1) + list(R_2)\n",
        "\n",
        "# ind = list(range(len(S_train)))\n",
        "# np.random.shuffle(ind)\n",
        "\n",
        "# S_train = np.array([S_train[i] for i in ind])\n",
        "# NS_train = np.array([NS_train[i] for i in ind])\n",
        "# A_train = np.array([A_train[i] for i in ind])\n",
        "# R_train = np.array([R_train[i] for i in ind])\n",
        "\n",
        "\n",
        "S_train,NS_train,A_train,R_train = clean(250,s,a,d)\n",
        "\n",
        "# S_train,NS_train,A_train,R_train = clean(250,s_ra,a_ra,d_ra)\n"
      ],
      "metadata": {
        "colab": {
          "base_uri": "https://localhost:8080/",
          "height": 201
        },
        "id": "rLl1DrGf3jdN",
        "outputId": "30e063ae-04a2-4683-fe31-de2b96fdc79e"
      },
      "execution_count": null,
      "outputs": [
        {
          "output_type": "error",
          "ename": "NameError",
          "evalue": "ignored",
          "traceback": [
            "\u001b[0;31m---------------------------------------------------------------------------\u001b[0m",
            "\u001b[0;31mNameError\u001b[0m                                 Traceback (most recent call last)",
            "\u001b[0;32m<ipython-input-13-112a1ef99de5>\u001b[0m in \u001b[0;36m<cell line: 21>\u001b[0;34m()\u001b[0m\n\u001b[1;32m     19\u001b[0m \u001b[0;34m\u001b[0m\u001b[0m\n\u001b[1;32m     20\u001b[0m \u001b[0;31m# S_train,NS_train,A_train,R_train = clean(250,s_ra,a_ra,d_ra)\u001b[0m\u001b[0;34m\u001b[0m\u001b[0;34m\u001b[0m\u001b[0m\n\u001b[0;32m---> 21\u001b[0;31m \u001b[0mlen\u001b[0m\u001b[0;34m(\u001b[0m\u001b[0mS_2\u001b[0m\u001b[0;34m)\u001b[0m\u001b[0;34m\u001b[0m\u001b[0;34m\u001b[0m\u001b[0m\n\u001b[0m",
            "\u001b[0;31mNameError\u001b[0m: name 'S_2' is not defined"
          ]
        }
      ]
    },
    {
      "cell_type": "code",
      "source": [
        "# Q fitted Training\n",
        "K = 13\n",
        "np.random.seed(np.random.randint(0,15))\n",
        "ftq = Fitted_Q_learning(10,gamma = 0.99, alpha = 0.005)\n",
        "losses = []\n",
        "for epoch in tqdm(range(K)):\n",
        "  losses.append(ftq.forward(S_train,A_train,NS_train,R_train))\n"
      ],
      "metadata": {
        "colab": {
          "base_uri": "https://localhost:8080/"
        },
        "id": "WjftvZCx4coe",
        "outputId": "4179cb7f-c293-4935-c90a-27c56ac1418e"
      },
      "execution_count": null,
      "outputs": [
        {
          "output_type": "stream",
          "name": "stderr",
          "text": [
            " 15%|█▌        | 2/13 [00:00<00:00, 11.15it/s]"
          ]
        },
        {
          "output_type": "stream",
          "name": "stdout",
          "text": [
            "0.32396973568184223\n",
            "0.30007399362360776\n",
            "0.27384644470727026\n"
          ]
        },
        {
          "output_type": "stream",
          "name": "stderr",
          "text": [
            "\r 31%|███       | 4/13 [00:00<00:00, 10.58it/s]"
          ]
        },
        {
          "output_type": "stream",
          "name": "stdout",
          "text": [
            "0.24529782190765062\n",
            "0.21454853118597814\n",
            "0.18187807606663267\n"
          ]
        },
        {
          "output_type": "stream",
          "name": "stderr",
          "text": [
            " 62%|██████▏   | 8/13 [00:00<00:00, 10.83it/s]"
          ]
        },
        {
          "output_type": "stream",
          "name": "stdout",
          "text": [
            "0.14779204870000084\n",
            "0.11311246172751183\n",
            "0.07909903406811987\n"
          ]
        },
        {
          "output_type": "stream",
          "name": "stderr",
          "text": [
            "\r 77%|███████▋  | 10/13 [00:00<00:00, 10.66it/s]"
          ]
        },
        {
          "output_type": "stream",
          "name": "stdout",
          "text": [
            "0.047611460004927886\n",
            "0.021325864869835207\n",
            "0.004022818474188762\n"
          ]
        },
        {
          "output_type": "stream",
          "name": "stderr",
          "text": [
            "100%|██████████| 13/13 [00:01<00:00, 10.78it/s]"
          ]
        },
        {
          "output_type": "stream",
          "name": "stdout",
          "text": [
            "0.0009697489817106158\n"
          ]
        },
        {
          "output_type": "stream",
          "name": "stderr",
          "text": [
            "\n"
          ]
        }
      ]
    },
    {
      "cell_type": "code",
      "source": [
        "scores = []\n",
        "for run in range(100):\n",
        "  score = rewards_fitted(env2,ftq)\n",
        "  scores.append(score)\n",
        "mean_250_mixed_005 = np.mean(scores)\n",
        "std_250_mixed_005 = np.std(scores)/np.square(len(scores))\n",
        "print(np.mean(scores))\n",
        "print(np.std(scores))"
      ],
      "metadata": {
        "colab": {
          "base_uri": "https://localhost:8080/"
        },
        "id": "PrVl7eXB4zm2",
        "outputId": "8e839268-4184-455e-8b18-b7dbc702ca20"
      },
      "execution_count": null,
      "outputs": [
        {
          "output_type": "stream",
          "name": "stdout",
          "text": [
            "36.38\n",
            "44.873105531041645\n"
          ]
        }
      ]
    },
    {
      "cell_type": "code",
      "source": [
        "#Training the Model\n",
        "model = LR(40,1)\n",
        "\n",
        "#Training the LR model\n",
        "perc_split = 0.5\n",
        "K = 100\n",
        "\n",
        "X = torch.Tensor(S_train)\n",
        "Y = torch.Tensor(A_train)\n",
        "#Spliting between train and test\n",
        "split = int(perc_split*len(X))\n",
        "\n",
        "X_train = X[:split]\n",
        "Y_train = Y[:split]\n",
        "\n",
        "X_test = X[split:]\n",
        "Y_test = Y[split:]\n",
        "\n",
        "alpha = 0.05\n",
        "criterion = torch.nn.MSELoss()\n",
        "optimizer = torch.optim.SGD(model.parameters(), lr=alpha)\n",
        "\n",
        "Loss = []\n",
        "\n",
        "for epoch in range(K):\n",
        "  optimizer.zero_grad()\n",
        "  Y_pred = model(X_train)\n",
        "  # get loss for the predicted output\n",
        "  loss = criterion(Y_pred, Y_train.reshape(-1,1))\n",
        "  loss.backward()\n",
        "  optimizer.step()\n",
        "  Loss.append(loss.item())\n",
        "\n",
        "Y_predict = (model(X_test) >= 0.5).float()\n",
        "Acc = (Y_predict == Y_test.reshape(-1,1))\n",
        "torch.sum(Acc)/len(Acc)"
      ],
      "metadata": {
        "colab": {
          "base_uri": "https://localhost:8080/"
        },
        "id": "ibESyXX55EbW",
        "outputId": "82620cda-15be-46d6-a797-224335fc7a4c"
      },
      "execution_count": null,
      "outputs": [
        {
          "output_type": "execute_result",
          "data": {
            "text/plain": [
              "tensor(0.7611)"
            ]
          },
          "metadata": {},
          "execution_count": 70
        }
      ]
    },
    {
      "cell_type": "code",
      "source": [
        "scores = []\n",
        "for run in range(100):\n",
        "  score = rewards_LR(env2,model)\n",
        "  scores.append(score)\n",
        "mean_250_mixed_005_LR = np.mean(scores)\n",
        "std_250_mixed_005_LR = np.std(scores)/np.square(len(scores))\n",
        "print(np.mean(scores))\n",
        "print(np.std(scores))"
      ],
      "metadata": {
        "colab": {
          "base_uri": "https://localhost:8080/"
        },
        "id": "1UABRcxn5KQu",
        "outputId": "b8331e9f-0da0-428f-f6e4-b9ccb85f1a28"
      },
      "execution_count": null,
      "outputs": [
        {
          "output_type": "stream",
          "name": "stdout",
          "text": [
            "196.18\n",
            "45.131891163566365\n"
          ]
        }
      ]
    },
    {
      "cell_type": "code",
      "source": [
        "## Training the MLP Model\n",
        "\n",
        "MLP = MLP_Q_fitted(40,20,20,2,gamma = 0.9)\n",
        "\n",
        "optimizer = torch.optim.SGD(MLP.layers.parameters(), lr=0.05)\n",
        "\n",
        "losses = []\n",
        "K = 100\n",
        "for run in tqdm(range(K)):\n",
        "  loss= MLP.forward(S_train,A_train,NS_train,R_train,optimizer)\n",
        "  losses.append(loss)\n",
        "  print(loss)"
      ],
      "metadata": {
        "colab": {
          "base_uri": "https://localhost:8080/"
        },
        "id": "TVQ7MYoPZI9Z",
        "outputId": "7a59d3a0-1df1-4b4d-8cc8-44b3749d05d3"
      },
      "execution_count": null,
      "outputs": [
        {
          "output_type": "stream",
          "name": "stderr",
          "text": [
            "  2%|▏         | 2/100 [00:00<00:13,  7.38it/s]"
          ]
        },
        {
          "output_type": "stream",
          "name": "stdout",
          "text": [
            "0.546254575252533\n",
            "0.542069673538208\n"
          ]
        },
        {
          "output_type": "stream",
          "name": "stderr",
          "text": [
            "\r  3%|▎         | 3/100 [00:00<00:14,  6.61it/s]"
          ]
        },
        {
          "output_type": "stream",
          "name": "stdout",
          "text": [
            "0.5380043983459473\n"
          ]
        },
        {
          "output_type": "stream",
          "name": "stderr",
          "text": [
            "\r  4%|▍         | 4/100 [00:00<00:17,  5.39it/s]"
          ]
        },
        {
          "output_type": "stream",
          "name": "stdout",
          "text": [
            "0.5340437889099121\n"
          ]
        },
        {
          "output_type": "stream",
          "name": "stderr",
          "text": [
            "\r  5%|▌         | 5/100 [00:00<00:19,  4.95it/s]"
          ]
        },
        {
          "output_type": "stream",
          "name": "stdout",
          "text": [
            "0.5302029848098755\n"
          ]
        },
        {
          "output_type": "stream",
          "name": "stderr",
          "text": [
            "\r  6%|▌         | 6/100 [00:01<00:19,  4.73it/s]"
          ]
        },
        {
          "output_type": "stream",
          "name": "stdout",
          "text": [
            "0.5264533162117004\n"
          ]
        },
        {
          "output_type": "stream",
          "name": "stderr",
          "text": [
            "\r  7%|▋         | 7/100 [00:01<00:20,  4.55it/s]"
          ]
        },
        {
          "output_type": "stream",
          "name": "stdout",
          "text": [
            "0.5227382183074951\n"
          ]
        },
        {
          "output_type": "stream",
          "name": "stderr",
          "text": [
            "\r  8%|▊         | 8/100 [00:01<00:20,  4.46it/s]"
          ]
        },
        {
          "output_type": "stream",
          "name": "stdout",
          "text": [
            "0.5190514326095581\n"
          ]
        },
        {
          "output_type": "stream",
          "name": "stderr",
          "text": [
            "\r  9%|▉         | 9/100 [00:01<00:20,  4.41it/s]"
          ]
        },
        {
          "output_type": "stream",
          "name": "stdout",
          "text": [
            "0.5153985619544983\n"
          ]
        },
        {
          "output_type": "stream",
          "name": "stderr",
          "text": [
            "\r 10%|█         | 10/100 [00:02<00:20,  4.41it/s]"
          ]
        },
        {
          "output_type": "stream",
          "name": "stdout",
          "text": [
            "0.5118036866188049\n"
          ]
        },
        {
          "output_type": "stream",
          "name": "stderr",
          "text": [
            "\r 11%|█         | 11/100 [00:02<00:20,  4.37it/s]"
          ]
        },
        {
          "output_type": "stream",
          "name": "stdout",
          "text": [
            "0.5083026885986328\n"
          ]
        },
        {
          "output_type": "stream",
          "name": "stderr",
          "text": [
            "\r 12%|█▏        | 12/100 [00:02<00:20,  4.34it/s]"
          ]
        },
        {
          "output_type": "stream",
          "name": "stdout",
          "text": [
            "0.504814863204956\n"
          ]
        },
        {
          "output_type": "stream",
          "name": "stderr",
          "text": [
            "\r 13%|█▎        | 13/100 [00:02<00:20,  4.33it/s]"
          ]
        },
        {
          "output_type": "stream",
          "name": "stdout",
          "text": [
            "0.5013346672058105\n"
          ]
        },
        {
          "output_type": "stream",
          "name": "stderr",
          "text": [
            "\r 14%|█▍        | 14/100 [00:02<00:19,  4.34it/s]"
          ]
        },
        {
          "output_type": "stream",
          "name": "stdout",
          "text": [
            "0.497784823179245\n"
          ]
        },
        {
          "output_type": "stream",
          "name": "stderr",
          "text": [
            "\r 15%|█▌        | 15/100 [00:03<00:19,  4.29it/s]"
          ]
        },
        {
          "output_type": "stream",
          "name": "stdout",
          "text": [
            "0.49420300126075745\n"
          ]
        },
        {
          "output_type": "stream",
          "name": "stderr",
          "text": [
            "\r 16%|█▌        | 16/100 [00:03<00:19,  4.29it/s]"
          ]
        },
        {
          "output_type": "stream",
          "name": "stdout",
          "text": [
            "0.4906006157398224\n"
          ]
        },
        {
          "output_type": "stream",
          "name": "stderr",
          "text": [
            "\r 17%|█▋        | 17/100 [00:03<00:19,  4.33it/s]"
          ]
        },
        {
          "output_type": "stream",
          "name": "stdout",
          "text": [
            "0.4870006740093231\n"
          ]
        },
        {
          "output_type": "stream",
          "name": "stderr",
          "text": [
            "\r 18%|█▊        | 18/100 [00:03<00:18,  4.32it/s]"
          ]
        },
        {
          "output_type": "stream",
          "name": "stdout",
          "text": [
            "0.48328953981399536\n"
          ]
        },
        {
          "output_type": "stream",
          "name": "stderr",
          "text": [
            "\r 19%|█▉        | 19/100 [00:04<00:18,  4.28it/s]"
          ]
        },
        {
          "output_type": "stream",
          "name": "stdout",
          "text": [
            "0.47944241762161255\n"
          ]
        },
        {
          "output_type": "stream",
          "name": "stderr",
          "text": [
            "\r 20%|██        | 20/100 [00:04<00:18,  4.24it/s]"
          ]
        },
        {
          "output_type": "stream",
          "name": "stdout",
          "text": [
            "0.4754772484302521\n"
          ]
        },
        {
          "output_type": "stream",
          "name": "stderr",
          "text": [
            "\r 21%|██        | 21/100 [00:04<00:18,  4.27it/s]"
          ]
        },
        {
          "output_type": "stream",
          "name": "stdout",
          "text": [
            "0.47136980295181274\n"
          ]
        },
        {
          "output_type": "stream",
          "name": "stderr",
          "text": [
            "\r 22%|██▏       | 22/100 [00:04<00:18,  4.30it/s]"
          ]
        },
        {
          "output_type": "stream",
          "name": "stdout",
          "text": [
            "0.46708226203918457\n"
          ]
        },
        {
          "output_type": "stream",
          "name": "stderr",
          "text": [
            "\r 23%|██▎       | 23/100 [00:05<00:17,  4.34it/s]"
          ]
        },
        {
          "output_type": "stream",
          "name": "stdout",
          "text": [
            "0.46262386441230774\n"
          ]
        },
        {
          "output_type": "stream",
          "name": "stderr",
          "text": [
            "\r 24%|██▍       | 24/100 [00:05<00:17,  4.30it/s]"
          ]
        },
        {
          "output_type": "stream",
          "name": "stdout",
          "text": [
            "0.4579538404941559\n"
          ]
        },
        {
          "output_type": "stream",
          "name": "stderr",
          "text": [
            "\r 25%|██▌       | 25/100 [00:05<00:17,  4.33it/s]"
          ]
        },
        {
          "output_type": "stream",
          "name": "stdout",
          "text": [
            "0.4530613422393799\n"
          ]
        },
        {
          "output_type": "stream",
          "name": "stderr",
          "text": [
            "\r 26%|██▌       | 26/100 [00:05<00:18,  4.06it/s]"
          ]
        },
        {
          "output_type": "stream",
          "name": "stdout",
          "text": [
            "0.44790470600128174\n"
          ]
        },
        {
          "output_type": "stream",
          "name": "stderr",
          "text": [
            "\r 27%|██▋       | 27/100 [00:06<00:19,  3.83it/s]"
          ]
        },
        {
          "output_type": "stream",
          "name": "stdout",
          "text": [
            "0.44247132539749146\n"
          ]
        },
        {
          "output_type": "stream",
          "name": "stderr",
          "text": [
            "\r 28%|██▊       | 28/100 [00:06<00:19,  3.62it/s]"
          ]
        },
        {
          "output_type": "stream",
          "name": "stdout",
          "text": [
            "0.4366896450519562\n"
          ]
        },
        {
          "output_type": "stream",
          "name": "stderr",
          "text": [
            "\r 29%|██▉       | 29/100 [00:06<00:20,  3.53it/s]"
          ]
        },
        {
          "output_type": "stream",
          "name": "stdout",
          "text": [
            "0.43051043152809143\n"
          ]
        },
        {
          "output_type": "stream",
          "name": "stderr",
          "text": [
            "\r 30%|███       | 30/100 [00:07<00:21,  3.31it/s]"
          ]
        },
        {
          "output_type": "stream",
          "name": "stdout",
          "text": [
            "0.423906147480011\n"
          ]
        },
        {
          "output_type": "stream",
          "name": "stderr",
          "text": [
            "\r 31%|███       | 31/100 [00:07<00:30,  2.30it/s]"
          ]
        },
        {
          "output_type": "stream",
          "name": "stdout",
          "text": [
            "0.4167787730693817\n"
          ]
        },
        {
          "output_type": "stream",
          "name": "stderr",
          "text": [
            "\r 32%|███▏      | 32/100 [00:08<00:28,  2.36it/s]"
          ]
        },
        {
          "output_type": "stream",
          "name": "stdout",
          "text": [
            "0.4090842008590698\n"
          ]
        },
        {
          "output_type": "stream",
          "name": "stderr",
          "text": [
            "\r 33%|███▎      | 33/100 [00:08<00:26,  2.56it/s]"
          ]
        },
        {
          "output_type": "stream",
          "name": "stdout",
          "text": [
            "0.40075013041496277\n"
          ]
        },
        {
          "output_type": "stream",
          "name": "stderr",
          "text": [
            "\r 34%|███▍      | 34/100 [00:08<00:23,  2.86it/s]"
          ]
        },
        {
          "output_type": "stream",
          "name": "stdout",
          "text": [
            "0.3917577564716339\n"
          ]
        },
        {
          "output_type": "stream",
          "name": "stderr",
          "text": [
            "\r 35%|███▌      | 35/100 [00:09<00:20,  3.17it/s]"
          ]
        },
        {
          "output_type": "stream",
          "name": "stdout",
          "text": [
            "0.38203826546669006\n"
          ]
        },
        {
          "output_type": "stream",
          "name": "stderr",
          "text": [
            "\r 36%|███▌      | 36/100 [00:09<00:20,  3.18it/s]"
          ]
        },
        {
          "output_type": "stream",
          "name": "stdout",
          "text": [
            "0.3715613782405853\n"
          ]
        },
        {
          "output_type": "stream",
          "name": "stderr",
          "text": [
            "\r 37%|███▋      | 37/100 [00:09<00:22,  2.84it/s]"
          ]
        },
        {
          "output_type": "stream",
          "name": "stdout",
          "text": [
            "0.36029550433158875\n"
          ]
        },
        {
          "output_type": "stream",
          "name": "stderr",
          "text": [
            "\r 38%|███▊      | 38/100 [00:10<00:20,  3.03it/s]"
          ]
        },
        {
          "output_type": "stream",
          "name": "stdout",
          "text": [
            "0.348241925239563\n"
          ]
        },
        {
          "output_type": "stream",
          "name": "stderr",
          "text": [
            "\r 39%|███▉      | 39/100 [00:10<00:18,  3.31it/s]"
          ]
        },
        {
          "output_type": "stream",
          "name": "stdout",
          "text": [
            "0.3354722261428833\n"
          ]
        },
        {
          "output_type": "stream",
          "name": "stderr",
          "text": [
            "\r 40%|████      | 40/100 [00:10<00:17,  3.45it/s]"
          ]
        },
        {
          "output_type": "stream",
          "name": "stdout",
          "text": [
            "0.3221094310283661\n"
          ]
        },
        {
          "output_type": "stream",
          "name": "stderr",
          "text": [
            "\r 41%|████      | 41/100 [00:10<00:16,  3.65it/s]"
          ]
        },
        {
          "output_type": "stream",
          "name": "stdout",
          "text": [
            "0.30854544043540955\n"
          ]
        },
        {
          "output_type": "stream",
          "name": "stderr",
          "text": [
            "\r 42%|████▏     | 42/100 [00:11<00:16,  3.61it/s]"
          ]
        },
        {
          "output_type": "stream",
          "name": "stdout",
          "text": [
            "0.29516831040382385\n"
          ]
        },
        {
          "output_type": "stream",
          "name": "stderr",
          "text": [
            "\r 43%|████▎     | 43/100 [00:11<00:16,  3.41it/s]"
          ]
        },
        {
          "output_type": "stream",
          "name": "stdout",
          "text": [
            "0.2822951376438141\n"
          ]
        },
        {
          "output_type": "stream",
          "name": "stderr",
          "text": [
            "\r 44%|████▍     | 44/100 [00:11<00:17,  3.12it/s]"
          ]
        },
        {
          "output_type": "stream",
          "name": "stdout",
          "text": [
            "0.27086204290390015\n"
          ]
        },
        {
          "output_type": "stream",
          "name": "stderr",
          "text": [
            "\r 45%|████▌     | 45/100 [00:12<00:20,  2.64it/s]"
          ]
        },
        {
          "output_type": "stream",
          "name": "stdout",
          "text": [
            "0.262131929397583\n"
          ]
        },
        {
          "output_type": "stream",
          "name": "stderr",
          "text": [
            "\r 46%|████▌     | 46/100 [00:12<00:24,  2.19it/s]"
          ]
        },
        {
          "output_type": "stream",
          "name": "stdout",
          "text": [
            "0.25716903805732727\n"
          ]
        },
        {
          "output_type": "stream",
          "name": "stderr",
          "text": [
            "\r 47%|████▋     | 47/100 [00:13<00:22,  2.31it/s]"
          ]
        },
        {
          "output_type": "stream",
          "name": "stdout",
          "text": [
            "0.2552616596221924\n"
          ]
        },
        {
          "output_type": "stream",
          "name": "stderr",
          "text": [
            "\r 48%|████▊     | 48/100 [00:13<00:21,  2.41it/s]"
          ]
        },
        {
          "output_type": "stream",
          "name": "stdout",
          "text": [
            "0.2561219036579132\n"
          ]
        },
        {
          "output_type": "stream",
          "name": "stderr",
          "text": [
            "\r 49%|████▉     | 49/100 [00:14<00:19,  2.63it/s]"
          ]
        },
        {
          "output_type": "stream",
          "name": "stdout",
          "text": [
            "0.259735107421875\n"
          ]
        },
        {
          "output_type": "stream",
          "name": "stderr",
          "text": [
            "\r 50%|█████     | 50/100 [00:14<00:17,  2.91it/s]"
          ]
        },
        {
          "output_type": "stream",
          "name": "stdout",
          "text": [
            "0.26554176211357117\n"
          ]
        },
        {
          "output_type": "stream",
          "name": "stderr",
          "text": [
            "\r 51%|█████     | 51/100 [00:14<00:15,  3.18it/s]"
          ]
        },
        {
          "output_type": "stream",
          "name": "stdout",
          "text": [
            "0.2730309069156647\n"
          ]
        },
        {
          "output_type": "stream",
          "name": "stderr",
          "text": [
            "\r 52%|█████▏    | 52/100 [00:14<00:14,  3.42it/s]"
          ]
        },
        {
          "output_type": "stream",
          "name": "stdout",
          "text": [
            "0.2804957330226898\n"
          ]
        },
        {
          "output_type": "stream",
          "name": "stderr",
          "text": [
            "\r 53%|█████▎    | 53/100 [00:14<00:13,  3.60it/s]"
          ]
        },
        {
          "output_type": "stream",
          "name": "stdout",
          "text": [
            "0.28643500804901123\n"
          ]
        },
        {
          "output_type": "stream",
          "name": "stderr",
          "text": [
            "\r 54%|█████▍    | 54/100 [00:15<00:12,  3.74it/s]"
          ]
        },
        {
          "output_type": "stream",
          "name": "stdout",
          "text": [
            "0.28998681902885437\n"
          ]
        },
        {
          "output_type": "stream",
          "name": "stderr",
          "text": [
            "\r 55%|█████▌    | 55/100 [00:15<00:13,  3.33it/s]"
          ]
        },
        {
          "output_type": "stream",
          "name": "stdout",
          "text": [
            "0.2904752194881439\n"
          ]
        },
        {
          "output_type": "stream",
          "name": "stderr",
          "text": [
            "\r 56%|█████▌    | 56/100 [00:15<00:13,  3.19it/s]"
          ]
        },
        {
          "output_type": "stream",
          "name": "stdout",
          "text": [
            "0.2879023849964142\n"
          ]
        },
        {
          "output_type": "stream",
          "name": "stderr",
          "text": [
            "\r 57%|█████▋    | 57/100 [00:16<00:13,  3.16it/s]"
          ]
        },
        {
          "output_type": "stream",
          "name": "stdout",
          "text": [
            "0.2824598252773285\n"
          ]
        },
        {
          "output_type": "stream",
          "name": "stderr",
          "text": [
            "\r 58%|█████▊    | 58/100 [00:16<00:14,  2.90it/s]"
          ]
        },
        {
          "output_type": "stream",
          "name": "stdout",
          "text": [
            "0.27462220191955566\n"
          ]
        },
        {
          "output_type": "stream",
          "name": "stderr",
          "text": [
            "\r 59%|█████▉    | 59/100 [00:17<00:14,  2.87it/s]"
          ]
        },
        {
          "output_type": "stream",
          "name": "stdout",
          "text": [
            "0.2650231719017029\n"
          ]
        },
        {
          "output_type": "stream",
          "name": "stderr",
          "text": [
            "\r 60%|██████    | 60/100 [00:17<00:13,  2.95it/s]"
          ]
        },
        {
          "output_type": "stream",
          "name": "stdout",
          "text": [
            "0.25435373187065125\n"
          ]
        },
        {
          "output_type": "stream",
          "name": "stderr",
          "text": [
            "\r 61%|██████    | 61/100 [00:17<00:12,  3.25it/s]"
          ]
        },
        {
          "output_type": "stream",
          "name": "stdout",
          "text": [
            "0.24324916303157806\n"
          ]
        },
        {
          "output_type": "stream",
          "name": "stderr",
          "text": [
            "\r 62%|██████▏   | 62/100 [00:17<00:10,  3.47it/s]"
          ]
        },
        {
          "output_type": "stream",
          "name": "stdout",
          "text": [
            "0.23205406963825226\n"
          ]
        },
        {
          "output_type": "stream",
          "name": "stderr",
          "text": [
            "\r 63%|██████▎   | 63/100 [00:18<00:10,  3.67it/s]"
          ]
        },
        {
          "output_type": "stream",
          "name": "stdout",
          "text": [
            "0.22108468413352966\n"
          ]
        },
        {
          "output_type": "stream",
          "name": "stderr",
          "text": [
            "\r 64%|██████▍   | 64/100 [00:18<00:09,  3.82it/s]"
          ]
        },
        {
          "output_type": "stream",
          "name": "stdout",
          "text": [
            "0.21052540838718414\n"
          ]
        },
        {
          "output_type": "stream",
          "name": "stderr",
          "text": [
            "\r 65%|██████▌   | 65/100 [00:18<00:08,  3.93it/s]"
          ]
        },
        {
          "output_type": "stream",
          "name": "stdout",
          "text": [
            "0.2004481703042984\n"
          ]
        },
        {
          "output_type": "stream",
          "name": "stderr",
          "text": [
            "\r 66%|██████▌   | 66/100 [00:18<00:08,  3.82it/s]"
          ]
        },
        {
          "output_type": "stream",
          "name": "stdout",
          "text": [
            "0.19092689454555511\n"
          ]
        },
        {
          "output_type": "stream",
          "name": "stderr",
          "text": [
            "\r 67%|██████▋   | 67/100 [00:19<00:09,  3.65it/s]"
          ]
        },
        {
          "output_type": "stream",
          "name": "stdout",
          "text": [
            "0.18200169503688812\n"
          ]
        },
        {
          "output_type": "stream",
          "name": "stderr",
          "text": [
            "\r 68%|██████▊   | 68/100 [00:19<00:09,  3.55it/s]"
          ]
        },
        {
          "output_type": "stream",
          "name": "stdout",
          "text": [
            "0.17361272871494293\n"
          ]
        },
        {
          "output_type": "stream",
          "name": "stderr",
          "text": [
            "\r 69%|██████▉   | 69/100 [00:19<00:08,  3.49it/s]"
          ]
        },
        {
          "output_type": "stream",
          "name": "stdout",
          "text": [
            "0.16577622294425964\n"
          ]
        },
        {
          "output_type": "stream",
          "name": "stderr",
          "text": [
            "\r 70%|███████   | 70/100 [00:20<00:08,  3.46it/s]"
          ]
        },
        {
          "output_type": "stream",
          "name": "stdout",
          "text": [
            "0.1584712117910385\n"
          ]
        },
        {
          "output_type": "stream",
          "name": "stderr",
          "text": [
            "\r 71%|███████   | 71/100 [00:20<00:08,  3.44it/s]"
          ]
        },
        {
          "output_type": "stream",
          "name": "stdout",
          "text": [
            "0.15166665613651276\n"
          ]
        },
        {
          "output_type": "stream",
          "name": "stderr",
          "text": [
            "\r 72%|███████▏  | 72/100 [00:20<00:08,  3.42it/s]"
          ]
        },
        {
          "output_type": "stream",
          "name": "stdout",
          "text": [
            "0.14533159136772156\n"
          ]
        },
        {
          "output_type": "stream",
          "name": "stderr",
          "text": [
            "\r 73%|███████▎  | 73/100 [00:20<00:08,  3.36it/s]"
          ]
        },
        {
          "output_type": "stream",
          "name": "stdout",
          "text": [
            "0.13941387832164764\n"
          ]
        },
        {
          "output_type": "stream",
          "name": "stderr",
          "text": [
            "\r 74%|███████▍  | 74/100 [00:21<00:07,  3.38it/s]"
          ]
        },
        {
          "output_type": "stream",
          "name": "stdout",
          "text": [
            "0.13389447331428528\n"
          ]
        },
        {
          "output_type": "stream",
          "name": "stderr",
          "text": [
            "\r 75%|███████▌  | 75/100 [00:21<00:07,  3.40it/s]"
          ]
        },
        {
          "output_type": "stream",
          "name": "stdout",
          "text": [
            "0.12873125076293945\n"
          ]
        },
        {
          "output_type": "stream",
          "name": "stderr",
          "text": [
            "\r 76%|███████▌  | 76/100 [00:21<00:06,  3.53it/s]"
          ]
        },
        {
          "output_type": "stream",
          "name": "stdout",
          "text": [
            "0.12388424575328827\n"
          ]
        },
        {
          "output_type": "stream",
          "name": "stderr",
          "text": [
            "\r 77%|███████▋  | 77/100 [00:22<00:06,  3.70it/s]"
          ]
        },
        {
          "output_type": "stream",
          "name": "stdout",
          "text": [
            "0.1193387433886528\n"
          ]
        },
        {
          "output_type": "stream",
          "name": "stderr",
          "text": [
            "\r 78%|███████▊  | 78/100 [00:22<00:05,  3.85it/s]"
          ]
        },
        {
          "output_type": "stream",
          "name": "stdout",
          "text": [
            "0.11506827920675278\n"
          ]
        },
        {
          "output_type": "stream",
          "name": "stderr",
          "text": [
            "\r 79%|███████▉  | 79/100 [00:22<00:05,  3.97it/s]"
          ]
        },
        {
          "output_type": "stream",
          "name": "stdout",
          "text": [
            "0.11104986071586609\n"
          ]
        },
        {
          "output_type": "stream",
          "name": "stderr",
          "text": [
            "\r 80%|████████  | 80/100 [00:22<00:04,  4.07it/s]"
          ]
        },
        {
          "output_type": "stream",
          "name": "stdout",
          "text": [
            "0.10726012289524078\n"
          ]
        },
        {
          "output_type": "stream",
          "name": "stderr",
          "text": [
            "\r 81%|████████  | 81/100 [00:22<00:04,  4.07it/s]"
          ]
        },
        {
          "output_type": "stream",
          "name": "stdout",
          "text": [
            "0.10368034988641739\n"
          ]
        },
        {
          "output_type": "stream",
          "name": "stderr",
          "text": [
            "\r 82%|████████▏ | 82/100 [00:23<00:04,  4.15it/s]"
          ]
        },
        {
          "output_type": "stream",
          "name": "stdout",
          "text": [
            "0.10029290616512299\n"
          ]
        },
        {
          "output_type": "stream",
          "name": "stderr",
          "text": [
            "\r 83%|████████▎ | 83/100 [00:23<00:04,  4.19it/s]"
          ]
        },
        {
          "output_type": "stream",
          "name": "stdout",
          "text": [
            "0.09707987308502197\n"
          ]
        },
        {
          "output_type": "stream",
          "name": "stderr",
          "text": [
            "\r 84%|████████▍ | 84/100 [00:23<00:03,  4.22it/s]"
          ]
        },
        {
          "output_type": "stream",
          "name": "stdout",
          "text": [
            "0.09403096139431\n"
          ]
        },
        {
          "output_type": "stream",
          "name": "stderr",
          "text": [
            "\r 85%|████████▌ | 85/100 [00:23<00:03,  4.20it/s]"
          ]
        },
        {
          "output_type": "stream",
          "name": "stdout",
          "text": [
            "0.09113495796918869\n"
          ]
        },
        {
          "output_type": "stream",
          "name": "stderr",
          "text": [
            "\r 86%|████████▌ | 86/100 [00:24<00:03,  4.26it/s]"
          ]
        },
        {
          "output_type": "stream",
          "name": "stdout",
          "text": [
            "0.08838005363941193\n"
          ]
        },
        {
          "output_type": "stream",
          "name": "stderr",
          "text": [
            "\r 87%|████████▋ | 87/100 [00:24<00:03,  4.17it/s]"
          ]
        },
        {
          "output_type": "stream",
          "name": "stdout",
          "text": [
            "0.08575572818517685\n"
          ]
        },
        {
          "output_type": "stream",
          "name": "stderr",
          "text": [
            "\r 88%|████████▊ | 88/100 [00:24<00:02,  4.22it/s]"
          ]
        },
        {
          "output_type": "stream",
          "name": "stdout",
          "text": [
            "0.08325168490409851\n"
          ]
        },
        {
          "output_type": "stream",
          "name": "stderr",
          "text": [
            "\r 89%|████████▉ | 89/100 [00:24<00:02,  4.24it/s]"
          ]
        },
        {
          "output_type": "stream",
          "name": "stdout",
          "text": [
            "0.08086107671260834\n"
          ]
        },
        {
          "output_type": "stream",
          "name": "stderr",
          "text": [
            "\r 90%|█████████ | 90/100 [00:25<00:02,  4.22it/s]"
          ]
        },
        {
          "output_type": "stream",
          "name": "stdout",
          "text": [
            "0.0785766988992691\n"
          ]
        },
        {
          "output_type": "stream",
          "name": "stderr",
          "text": [
            "\r 91%|█████████ | 91/100 [00:25<00:02,  4.22it/s]"
          ]
        },
        {
          "output_type": "stream",
          "name": "stdout",
          "text": [
            "0.07639211416244507\n"
          ]
        },
        {
          "output_type": "stream",
          "name": "stderr",
          "text": [
            "\r 92%|█████████▏| 92/100 [00:25<00:01,  4.21it/s]"
          ]
        },
        {
          "output_type": "stream",
          "name": "stdout",
          "text": [
            "0.07430095970630646\n"
          ]
        },
        {
          "output_type": "stream",
          "name": "stderr",
          "text": [
            "\r 93%|█████████▎| 93/100 [00:25<00:01,  4.20it/s]"
          ]
        },
        {
          "output_type": "stream",
          "name": "stdout",
          "text": [
            "0.07229761779308319\n"
          ]
        },
        {
          "output_type": "stream",
          "name": "stderr",
          "text": [
            "\r 94%|█████████▍| 94/100 [00:26<00:01,  4.22it/s]"
          ]
        },
        {
          "output_type": "stream",
          "name": "stdout",
          "text": [
            "0.07037974148988724\n"
          ]
        },
        {
          "output_type": "stream",
          "name": "stderr",
          "text": [
            "\r 95%|█████████▌| 95/100 [00:26<00:01,  4.24it/s]"
          ]
        },
        {
          "output_type": "stream",
          "name": "stdout",
          "text": [
            "0.06853946298360825\n"
          ]
        },
        {
          "output_type": "stream",
          "name": "stderr",
          "text": [
            "\r 96%|█████████▌| 96/100 [00:26<00:00,  4.22it/s]"
          ]
        },
        {
          "output_type": "stream",
          "name": "stdout",
          "text": [
            "0.06677141785621643\n"
          ]
        },
        {
          "output_type": "stream",
          "name": "stderr",
          "text": [
            "\r 97%|█████████▋| 97/100 [00:26<00:00,  4.23it/s]"
          ]
        },
        {
          "output_type": "stream",
          "name": "stdout",
          "text": [
            "0.06507167220115662\n"
          ]
        },
        {
          "output_type": "stream",
          "name": "stderr",
          "text": [
            "\r 98%|█████████▊| 98/100 [00:26<00:00,  4.23it/s]"
          ]
        },
        {
          "output_type": "stream",
          "name": "stdout",
          "text": [
            "0.06343688815832138\n"
          ]
        },
        {
          "output_type": "stream",
          "name": "stderr",
          "text": [
            "\r 99%|█████████▉| 99/100 [00:27<00:00,  4.25it/s]"
          ]
        },
        {
          "output_type": "stream",
          "name": "stdout",
          "text": [
            "0.061863623559474945\n"
          ]
        },
        {
          "output_type": "stream",
          "name": "stderr",
          "text": [
            "100%|██████████| 100/100 [00:27<00:00,  3.64it/s]"
          ]
        },
        {
          "output_type": "stream",
          "name": "stdout",
          "text": [
            "0.06034977361559868\n"
          ]
        },
        {
          "output_type": "stream",
          "name": "stderr",
          "text": [
            "\n"
          ]
        }
      ]
    },
    {
      "cell_type": "code",
      "source": [
        "scores = []\n",
        "for run in range(100):\n",
        "  score = rewards_MLP(env2,MLP,one_hot = True)\n",
        "  scores.append(score)\n",
        "mean_250_mixed_005_MLP = np.mean(scores)\n",
        "std_250_mixed_005_MLP = np.std(scores)/np.square(len(scores))\n",
        "print(np.mean(scores))\n",
        "print(np.std(scores)/np.square(len(scores)))"
      ],
      "metadata": {
        "colab": {
          "base_uri": "https://localhost:8080/"
        },
        "id": "Dn0YWKfJZiwP",
        "outputId": "04851b87-381e-4f1e-8144-085731174631"
      },
      "execution_count": null,
      "outputs": [
        {
          "output_type": "stream",
          "name": "stdout",
          "text": [
            "148.88\n",
            "0.0041226030611738506\n"
          ]
        }
      ]
    },
    {
      "cell_type": "code",
      "source": [],
      "metadata": {
        "id": "Pbe0NxYwdPFJ"
      },
      "execution_count": null,
      "outputs": []
    },
    {
      "cell_type": "markdown",
      "source": [
        "#Plot of the 250 dataset size"
      ],
      "metadata": {
        "id": "mBNpSlNb6606"
      }
    },
    {
      "cell_type": "code",
      "source": [
        "L_R = [mean_250_expert_005_LR,mean_250_random_005_LR,mean_250_mixed_005_LR]\n",
        "fitted = [mean_250_expert_005,mean_250_random_005,mean_250_mixed_005]\n",
        "MLP = [mean_250_expert_005_MLP,mean_250_random_005_MLP,mean_250_mixed_005_MLP]\n",
        "X = np.arange(3)\n",
        "fig = plt.figure()\n",
        "ax = fig.add_axes([0,0,1,1])\n",
        "\n",
        "ax.bar(X + 0, L_R, color ='r',label = \"LR\",width = 0.25)\n",
        "ax.bar(X + 0.25, fitted, color ='b',label = \"Q fitted\",width = 0.25)\n",
        "ax.bar(X + 0.5, MLP, color ='g',label = \"MLP\",width = 0.25)\n",
        "\n",
        "ax.axhline(y = 97.28,color ='g',label = 'return of expert policy')\n",
        "ax.axhline(y = 36.24,color ='y',label = 'return of random policy')\n",
        "plt.legend()\n",
        "plt.xticks(X,[\"expert\", \"random\",\"mixed\"])\n",
        "plt.title(\"The rewards from the different models for alpha = 0.005 and datasize of size 250\")\n"
      ],
      "metadata": {
        "colab": {
          "base_uri": "https://localhost:8080/",
          "height": 580
        },
        "id": "GP39K54R6_rk",
        "outputId": "592743dd-0eff-4f4e-b9c9-d25781410ad0"
      },
      "execution_count": null,
      "outputs": [
        {
          "output_type": "execute_result",
          "data": {
            "text/plain": [
              "Text(0.5, 1.0, 'The rewards from the different models for alpha = 0.005 and datasize of size 250')"
            ]
          },
          "metadata": {},
          "execution_count": 64
        },
        {
          "output_type": "display_data",
          "data": {
            "text/plain": [
              "<Figure size 640x480 with 1 Axes>"
            ],
            "image/png": "[encoded data removed]"
          },
          "metadata": {}
        }
      ]
    },
    {
      "cell_type": "code",
      "source": [
        "L_R = [std_250_expert_005_LR,std_250_random_005_LR,std_250_mixed_005_LR]\n",
        "fitted = [std_250_expert_005,std_250_random_005,std_250_mixed_005]\n",
        "MLP = [std_250_expert_005_MLP,std_250_random_005_MLP,std_250_mixed_005_MLP]\n",
        "X = np.arange(3)\n",
        "fig = plt.figure()\n",
        "ax = fig.add_axes([0,0,1,1])\n",
        "\n",
        "ax.bar(X + 0, L_R, color ='r',label = \"LR\",width = 0.25)\n",
        "ax.bar(X + 0.25, fitted, color ='b',label = \"Q fitted\",width = 0.25)\n",
        "ax.bar(X + 0.5, MLP, color ='g',label = \"MLP\",width = 0.25)\n",
        "# ax.axhline(y = 139.28,color ='g',label = 'return of expert policy')\n",
        "# ax.axhline(y = 27.24,color ='y',label = 'return of random policy')\n",
        "plt.xticks(X,[\"expert\", \"random\",\"mixed\"])\n",
        "plt.legend()\n",
        "plt.title(\"The Standard error reward from the different models for alpha = 0.005 and datasize of size of 250\")"
      ],
      "metadata": {
        "colab": {
          "base_uri": "https://localhost:8080/",
          "height": 580
        },
        "id": "KJ-ruiSG8TOf",
        "outputId": "988c4927-46cd-49be-b341-2c3c6e90b595"
      },
      "execution_count": null,
      "outputs": [
        {
          "output_type": "execute_result",
          "data": {
            "text/plain": [
              "Text(0.5, 1.0, 'The Standard error reward from the different models for alpha = 0.005 and datasize of size of 250')"
            ]
          },
          "metadata": {},
          "execution_count": 66
        },
        {
          "output_type": "display_data",
          "data": {
            "text/plain": [
              "<Figure size 640x480 with 1 Axes>"
            ],
            "image/png": "[encoded data removed]"
          },
          "metadata": {}
        }
      ]
    },
    {
      "cell_type": "markdown",
      "source": [
        "# **Dataset of size 100**"
      ],
      "metadata": {
        "id": "2aX-6RCgHNo7"
      }
    },
    {
      "cell_type": "code",
      "source": [
        "# S_1,NS_1,A_1,R_1 = clean(50,s_ra,a_ra,d_ra)\n",
        "# S_2,NS_2,A_2,R_2 = clean(50,s,a,d)\n",
        "\n",
        "# S_train = list(S_1) + list(S_2)\n",
        "# NS_train = list(NS_1) + list(NS_2)\n",
        "# A_train = list(A_1) + list(A_2)\n",
        "# R_train = list(R_1) + list(R_2)\n",
        "\n",
        "# ind = list(range(len(S_train)))\n",
        "# np.random.shuffle(ind)\n",
        "\n",
        "# S_train = np.array([S_train[i] for i in ind])\n",
        "# NS_train = np.array([NS_train[i] for i in ind])\n",
        "# A_train = np.array([A_train[i] for i in ind])\n",
        "# R_train = np.array([R_train[i] for i in ind])\n",
        "\n",
        "# Expert data\n",
        "#S_train,NS_train,A_train,R_train = clean(100,s,a,d)\n",
        "\n",
        "S_train,NS_train,A_train,R_train = clean(100,s_ra,a_ra,d_ra)\n"
      ],
      "metadata": {
        "id": "FuKMdeSjHSJY"
      },
      "execution_count": null,
      "outputs": []
    },
    {
      "cell_type": "code",
      "source": [
        "# Q fitted Training\n",
        "K = 12\n",
        "np.random.seed(np.random.randint(0,15))\n",
        "ftq = Fitted_Q_learning(100,gamma = 0.99, alpha = 0.005)\n",
        "losses = []\n",
        "for epoch in tqdm(range(K)):\n",
        "  losses.append(ftq.forward(S_train,A_train,NS_train,R_train))"
      ],
      "metadata": {
        "colab": {
          "base_uri": "https://localhost:8080/"
        },
        "id": "qUkaiRv4HZIi",
        "outputId": "0261cee0-4271-4466-ed8e-3aa6aa33d58b"
      },
      "execution_count": null,
      "outputs": [
        {
          "output_type": "stream",
          "name": "stderr",
          "text": [
            " 50%|█████     | 6/12 [00:00<00:00, 50.16it/s]"
          ]
        },
        {
          "output_type": "stream",
          "name": "stdout",
          "text": [
            "0.166402044576203\n",
            "2.959699877722277\n",
            "20.832834391811044\n",
            "115.06453764238555\n",
            "579.8687265061437\n",
            "2810.7740924237983\n",
            "13390.955232140477\n",
            "63297.87655359956\n",
            "298130.2741162694\n",
            "1401862.312978779\n",
            "6586792.710296612\n"
          ]
        },
        {
          "output_type": "stream",
          "name": "stderr",
          "text": [
            "100%|██████████| 12/12 [00:00<00:00, 49.12it/s]"
          ]
        },
        {
          "output_type": "stream",
          "name": "stdout",
          "text": [
            "30937852.13051162\n"
          ]
        },
        {
          "output_type": "stream",
          "name": "stderr",
          "text": [
            "\n"
          ]
        }
      ]
    },
    {
      "cell_type": "code",
      "source": [
        "scores = []\n",
        "for run in (range(100)):\n",
        "  score = rewards_fitted(env2,ftq)\n",
        "  scores.append(score)\n",
        "mean_100_mixed_005 = np.mean(scores)\n",
        "std_100_mixed_005 = np.std(scores)/np.square(len(scores))\n",
        "print(np.mean(scores))\n",
        "print(np.std(scores))"
      ],
      "metadata": {
        "colab": {
          "base_uri": "https://localhost:8080/"
        },
        "id": "DRbb3kkhHjuI",
        "outputId": "3dfa0ccf-2ec2-4c02-d1d5-c4f2dbcee27f"
      },
      "execution_count": null,
      "outputs": [
        {
          "output_type": "stream",
          "name": "stdout",
          "text": [
            "34.64\n",
            "42.17736833895637\n"
          ]
        }
      ]
    },
    {
      "cell_type": "code",
      "source": [
        "#Training the Model\n",
        "model = LR(40,1)\n",
        "\n",
        "#Training the LR model\n",
        "perc_split = 0.5\n",
        "K = 1000\n",
        "\n",
        "X = torch.Tensor(S_train)\n",
        "Y = torch.Tensor(A_train)\n",
        "#Spliting between train and test\n",
        "split = int(perc_split*len(X))\n",
        "\n",
        "X_train = X[:split]\n",
        "Y_train = Y[:split]\n",
        "\n",
        "X_test = X[split:]\n",
        "Y_test = Y[split:]\n",
        "\n",
        "alpha = 0.05\n",
        "criterion = torch.nn.MSELoss()\n",
        "optimizer = torch.optim.SGD(model.parameters(), lr=alpha)\n",
        "\n",
        "Loss = []\n",
        "\n",
        "for epoch in range(K):\n",
        "  optimizer.zero_grad()\n",
        "  Y_pred = model(X_train)\n",
        "  # get loss for the predicted output\n",
        "  loss = criterion(Y_pred, Y_train.reshape(-1,1))\n",
        "  loss.backward()\n",
        "  optimizer.step()\n",
        "  Loss.append(loss.item())\n",
        "\n",
        "Y_predict = (model(X_test) >= 0.5).float()\n",
        "Acc = (Y_predict == Y_test.reshape(-1,1))\n",
        "torch.sum(Acc)/len(Acc)"
      ],
      "metadata": {
        "colab": {
          "base_uri": "https://localhost:8080/"
        },
        "id": "0BToNrrtIU6Q",
        "outputId": "303a099f-f714-42f0-c0ce-a13cbfe8779a"
      },
      "execution_count": null,
      "outputs": [
        {
          "output_type": "execute_result",
          "data": {
            "text/plain": [
              "tensor(0.5221)"
            ]
          },
          "metadata": {},
          "execution_count": 166
        }
      ]
    },
    {
      "cell_type": "code",
      "source": [
        "scores = []\n",
        "for run in range(100):\n",
        "  score = rewards_LR(env2,model)\n",
        "  scores.append(score)\n",
        "mean_100_random_005_LR = np.mean(scores)\n",
        "std_100_random_005_LR = np.std(scores)/np.square(len(scores))\n",
        "print(np.mean(scores))\n",
        "print(np.std(scores))"
      ],
      "metadata": {
        "colab": {
          "base_uri": "https://localhost:8080/"
        },
        "id": "XyRQ6Oa6JaYU",
        "outputId": "6c95534d-6927-4ffa-bb3d-7721c7beadd6"
      },
      "execution_count": null,
      "outputs": [
        {
          "output_type": "stream",
          "name": "stdout",
          "text": [
            "31.43\n",
            "15.315518273959912\n"
          ]
        }
      ]
    },
    {
      "cell_type": "code",
      "source": [
        "# S_1,NS_1,A_1,R_1 = clean(50,s_ra,a_ra,d_ra,one_hot = True)\n",
        "# S_2,NS_2,A_2,R_2 = clean(50,s,a,d,one_hot = True)\n",
        "\n",
        "# S_train = list(S_1) + list(S_2)\n",
        "# NS_train = list(NS_1) + list(NS_2)\n",
        "# A_train = list(A_1) + list(A_2)\n",
        "# R_train = list(R_1) + list(R_2)\n",
        "\n",
        "# ind = list(range(len(S_train)))\n",
        "# np.random.shuffle(ind)\n",
        "\n",
        "# S_train = np.array([S_train[i] for i in ind])\n",
        "# NS_train = np.array([NS_train[i] for i in ind])\n",
        "# A_train = np.array([A_train[i] for i in ind])\n",
        "# R_train = np.array([R_train[i] for i in ind])\n",
        "\n",
        "S_train,NS_train,A_train,R_train = clean(100,s_ra,a_ra,d_ra,one_hot = True)\n",
        "\n",
        "\n",
        "## Training the MLP Model\n",
        "\n",
        "MLP = MLP_Q_fitted(40,20,20,2,gamma = 0.9)\n",
        "\n",
        "optimizer = torch.optim.SGD(MLP.layers.parameters(), lr=0.1)\n",
        "\n",
        "losses = []\n",
        "K = 50\n",
        "for run in tqdm(range(K)):\n",
        "  loss= MLP.forward(S_train,A_train,NS_train,R_train,optimizer)\n",
        "  losses.append(loss)\n",
        "  print(loss)"
      ],
      "metadata": {
        "colab": {
          "base_uri": "https://localhost:8080/"
        },
        "id": "Owkj-DMkdAKu",
        "outputId": "203c33e5-23c0-4075-9e4a-974f8f1814ad"
      },
      "execution_count": null,
      "outputs": [
        {
          "output_type": "stream",
          "name": "stderr",
          "text": [
            " 12%|█▏        | 6/50 [00:00<00:01, 26.12it/s]"
          ]
        },
        {
          "output_type": "stream",
          "name": "stdout",
          "text": [
            "0.5580170154571533\n",
            "0.5471475124359131\n",
            "0.537250280380249\n",
            "0.5281444787979126\n",
            "0.5195968151092529\n",
            "0.5114938616752625\n"
          ]
        },
        {
          "output_type": "stream",
          "name": "stderr",
          "text": [
            " 24%|██▍       | 12/50 [00:00<00:01, 25.11it/s]"
          ]
        },
        {
          "output_type": "stream",
          "name": "stdout",
          "text": [
            "0.5037105083465576\n",
            "0.496133416891098\n",
            "0.4887298345565796\n",
            "0.4812711477279663\n",
            "0.47344544529914856\n",
            "0.46494850516319275\n"
          ]
        },
        {
          "output_type": "stream",
          "name": "stderr",
          "text": [
            " 38%|███▊      | 19/50 [00:00<00:01, 27.71it/s]"
          ]
        },
        {
          "output_type": "stream",
          "name": "stdout",
          "text": [
            "0.45547476410865784\n",
            "0.44465014338493347\n",
            "0.43212154507637024\n",
            "0.41724348068237305\n",
            "0.39938750863075256\n",
            "0.37797486782073975\n",
            "0.35217878222465515\n"
          ]
        },
        {
          "output_type": "stream",
          "name": "stderr",
          "text": [
            " 50%|█████     | 25/50 [00:00<00:00, 26.17it/s]"
          ]
        },
        {
          "output_type": "stream",
          "name": "stdout",
          "text": [
            "0.3223055303096771\n",
            "0.29005488753318787\n",
            "0.2595385015010834\n",
            "0.23701906204223633\n",
            "0.22691504657268524\n",
            "0.2278045117855072\n"
          ]
        },
        {
          "output_type": "stream",
          "name": "stderr",
          "text": [
            "\r 56%|█████▌    | 28/50 [00:01<00:00, 25.11it/s]"
          ]
        },
        {
          "output_type": "stream",
          "name": "stdout",
          "text": [
            "0.23147214949131012\n",
            "0.22839587926864624\n",
            "0.2153339385986328\n",
            "0.19541926681995392\n",
            "0.17343232035636902\n"
          ]
        },
        {
          "output_type": "stream",
          "name": "stderr",
          "text": [
            " 70%|███████   | 35/50 [00:01<00:00, 26.01it/s]"
          ]
        },
        {
          "output_type": "stream",
          "name": "stdout",
          "text": [
            "0.15269145369529724\n",
            "0.1346331387758255\n",
            "0.11945441365242004\n",
            "0.10686217993497849\n",
            "0.09640540182590485\n",
            "0.0876530185341835\n",
            "0.08023067563772202\n"
          ]
        },
        {
          "output_type": "stream",
          "name": "stderr",
          "text": [
            " 84%|████████▍ | 42/50 [00:01<00:00, 27.45it/s]"
          ]
        },
        {
          "output_type": "stream",
          "name": "stdout",
          "text": [
            "0.07386500388383865\n",
            "0.06832481920719147\n",
            "0.06344606727361679\n",
            "0.0591108463704586\n",
            "0.05522189289331436\n",
            "0.05171642452478409\n",
            "0.04853372275829315\n"
          ]
        },
        {
          "output_type": "stream",
          "name": "stderr",
          "text": [
            "100%|██████████| 50/50 [00:01<00:00, 27.37it/s]"
          ]
        },
        {
          "output_type": "stream",
          "name": "stdout",
          "text": [
            "0.04562059044837952\n",
            "0.04295355826616287\n",
            "0.0405021533370018\n",
            "0.038248613476753235\n",
            "0.03616313263773918\n",
            "0.034225061535835266\n"
          ]
        },
        {
          "output_type": "stream",
          "name": "stderr",
          "text": [
            "\n"
          ]
        }
      ]
    },
    {
      "cell_type": "code",
      "source": [
        "scores = []\n",
        "for run in range(100):\n",
        "  score = rewards_MLP(env2,MLP,one_hot = True)\n",
        "  scores.append(score)\n",
        "mean_100_random_005_MLP = np.mean(scores)\n",
        "std_100_random_005_MLP = np.std(scores)/np.square(len(scores))\n",
        "print(np.mean(scores))\n",
        "print(np.std(scores)/np.square(len(scores)))"
      ],
      "metadata": {
        "colab": {
          "base_uri": "https://localhost:8080/"
        },
        "id": "aMyxESiddT4h",
        "outputId": "6594de39-2bd8-4a07-efa0-028aab9237d9"
      },
      "execution_count": null,
      "outputs": [
        {
          "output_type": "stream",
          "name": "stdout",
          "text": [
            "10.88\n",
            "0.0001107068200247844\n"
          ]
        }
      ]
    },
    {
      "cell_type": "markdown",
      "source": [
        "# Plot of the 100 dataset size"
      ],
      "metadata": {
        "id": "Vm2xBCvuJrdZ"
      }
    },
    {
      "cell_type": "code",
      "source": [
        "L_R = [mean_100_expert_005_LR,mean_100_random_005_LR,mean_100_mixed_005_LR]\n",
        "fitted = [mean_100_expert_005,mean_100_random_005,mean_100_mixed_005]\n",
        "MLP = [mean_100_expert_005_MLP,mean_100_random_005_MLP,mean_100_mixed_005_MLP]\n",
        "\n",
        "X = np.arange(3)\n",
        "fig = plt.figure()\n",
        "ax = fig.add_axes([0,0,1,1])\n",
        "\n",
        "ax.bar(X + 0, L_R, color ='r',label = \"LR\",width = 0.25)\n",
        "ax.bar(X + 0.25, fitted, color ='b',label = \"Q fitted\",width = 0.25)\n",
        "ax.bar(X + 0.5, MLP, color ='g',label = \"MLP\",width = 0.25)\n",
        "\n",
        "ax.axhline(y = 90.28,color ='g',label = 'return of expert policy')\n",
        "ax.axhline(y = 36.24,color ='y',label = 'return of random policy')\n",
        "plt.legend()\n",
        "plt.xticks(X,[\"expert\", \"random\",\"mixed\"])\n",
        "plt.title(\"The rewards from the different models for datasize of size 100\")\n"
      ],
      "metadata": {
        "colab": {
          "base_uri": "https://localhost:8080/",
          "height": 580
        },
        "id": "eVWII4wqJuTH",
        "outputId": "0ea0cd24-fb1c-4e8e-9dbe-f7522a06be59"
      },
      "execution_count": null,
      "outputs": [
        {
          "output_type": "execute_result",
          "data": {
            "text/plain": [
              "Text(0.5, 1.0, 'The rewards from the different models for datasize of size 100')"
            ]
          },
          "metadata": {},
          "execution_count": 32
        },
        {
          "output_type": "display_data",
          "data": {
            "text/plain": [
              "<Figure size 640x480 with 1 Axes>"
            ],
            "image/png": "[encoded data removed]"
          },
          "metadata": {}
        }
      ]
    },
    {
      "cell_type": "code",
      "source": [
        "L_R = [0.0062,0.0027,0.0042]\n",
        "fitted = [0.0047,0.0039,0.0032]\n",
        "MLP = [std_100_expert_005_MLP,std_100_random_005_MLP,std_100_mixed_005_MLP]\n",
        "X = np.arange(3)\n",
        "fig = plt.figure()\n",
        "ax = fig.add_axes([0,0,1,1])\n",
        "\n",
        "ax.bar(X + 0, L_R, color ='r',label = \"LR\",width = 0.25)\n",
        "ax.bar(X + 0.25, fitted, color ='b',label = \"Q fitted\",width = 0.25)\n",
        "ax.bar(X + 0.5 , MLP, color = 'g', label = \"MLP\", width = 0.25)\n",
        "# ax.axhline(y = 139.28,color ='g',label = 'return of expert policy')\n",
        "# ax.axhline(y = 27.24,color ='y',label = 'return of random policy')\n",
        "plt.xticks(X,[\"expert\", \"random\",\"mixed\"])\n",
        "plt.legend()\n",
        "plt.title(\"The Standard error reward from the different models datasize of size 100\")"
      ],
      "metadata": {
        "colab": {
          "base_uri": "https://localhost:8080/",
          "height": 580
        },
        "id": "ik9gg_-pMK_d",
        "outputId": "60ad4724-cc5e-4086-9df2-55707e07eb88"
      },
      "execution_count": null,
      "outputs": [
        {
          "output_type": "execute_result",
          "data": {
            "text/plain": [
              "Text(0.5, 1.0, 'The Standard error reward from the different models datasize of size 100')"
            ]
          },
          "metadata": {},
          "execution_count": 33
        },
        {
          "output_type": "display_data",
          "data": {
            "text/plain": [
              "<Figure size 640x480 with 1 Axes>"
            ],
            "image/png": "[encoded data removed]"
          },
          "metadata": {}
        }
      ]
    },
    {
      "cell_type": "markdown",
      "source": [
        "#**The Comments**"
      ],
      "metadata": {
        "id": "ILSmknxfocud"
      }
    },
    {
      "cell_type": "markdown",
      "source": [
        "**The choice of the learning rate**\n",
        "\n",
        "Here two alphas were tried out for Fitted Q learning (0.005 and 0.05) and the one kept for the graphs is the better performing one which is 0.005. Indeed the convergence of $\\phi$ to the argmin is quite slow.\n",
        "\n",
        "**The choice of $\\gamma$ :**\n",
        "\n",
        "Here the gamma that is used for the different expirements is the same as the one used for the expert policy, meaning $\\gamma = 0.99$\n",
        "\n",
        "**Stoping the training**\n",
        "\n",
        "1. The training is stopped when the loss reaches a null value, so that we could avoid any potential overfitting, that would make the model completly dependant on the training dataset, and hence random in what comes to new data.\n",
        "\n",
        "2. The parameter K for the **fitted Q Learning** Algorithm is relatively low K = 15, this can be due to the fact that we only have two actions and the gradient descent can very rapidly reach approximatively a null loss. In fact, when we see the steps 2 - 3 from the given algorithm in the assignement, we can observe that the update of $\\phi$ is brings very \"agressively\" the value of Q to the desired target.\n",
        "\n",
        "\n",
        "3. The parameter K for the **LR** or the **MLP** models is around 50, somtimes a 100. This makes sense since the learning rate that was taken is quite low, and since we can assume that we have a convex function (which is later confirmed by the performance of the testing). Indeed, when we take a larger learning_rate we can have explosing losses, since the approxiamtor leaves the minimum area and reaches high values in the loss function.\n",
        "\n",
        "\n",
        "**Comapring the different models**\n",
        "\n",
        "1. First thing to notice here, is how well the LR is performing, in almost all the cases, he outperforms the MLP and really outperforms the Fitted Q Learning.\n",
        "\n",
        "    1.1. Indeed, the LR performs because the task at hand can be considered as a classification task. And here we have a classification of two labels (actions being either 0 or 1),So the LR is much more efficient in a classification than the Fitted Q LEarning or the MLP (which a slight variation of the Fitted Q Learning)\n",
        "\n",
        "    1.2. Also one reason for which the LR learns really well is the size of the dataset (either being 500 ep, 250 ep or 100 ep). One has to keep in mind that each episode gives around few hundreds of pairs (state,action). And since the action can take (10000) values (due the one_hot_encoding, then LR basically sees every possible pair (state, action) which explains the reason for which it performs really well. But in a more complex RL problem maybe the offline LR approach wouldn't be as efficient.\n",
        "\n",
        "2. In what comes to the comparison between MLP and Fitted Q Learning, since Fitted Q LEarning is one way approxiamtion to find the $\\phi$ that minimzes the loss, it is quite logical that the MLP would outperform hand written first degree Taylor approxiamtion of the derivative of the loss.\n",
        "\n",
        "\n",
        "\n",
        "\n",
        "\n",
        "**Comparing the different datasets**\n",
        "\n",
        "**By size** : Quite logical that the best performing one is the 500 episodes since we have more data to train on which allows the model to be more performing.\n",
        "\n",
        "\n",
        "**By quality** : For Fitted Q Learning and MLP , we can easily ibserve that the best performance is given for the expert data, and the worst one being the random one. The mixed dataset is in between. This makes sense, since the Q fitted leaning and MLP is really affected by the number of \"accurate\" samples in the dataset.\n",
        "\n",
        "The difference with LR is that LR performs in mixed dataset almost as well as the expert one. In fact, even for only 100 episodes ,50 episodes from expert can give almost 6000-9000 pairs of \"accurate\" pairs.and we only have (1000*2) possible pairs overall.  Hence, the model has enough data to be performing well . and the few thousands pairs that are added from the random policy can be considered as just noise that disturbs the model.\n",
        "\n",
        "\n",
        "\n",
        "\n",
        "\n",
        "**Comparing with the policies**\n",
        "\n",
        "The LR and MLP usually outperfrom the expert policy when trained on the expert or the mixed datasets. Which as explained above is logical.\n",
        "\n",
        "  1. LR has quite a lot of pairs to train on.\n",
        "  2. The minimization of $\\phi$ is far less efficient that a NN to predict Q. (MLP > Q fitted)"
      ],
      "metadata": {
        "id": "1KvFP7wrofau"
      }
    }
  ]
}